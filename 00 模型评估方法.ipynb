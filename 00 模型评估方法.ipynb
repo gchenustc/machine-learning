{
 "cells": [
  {
   "cell_type": "code",
   "execution_count": 1,
   "metadata": {},
   "outputs": [],
   "source": [
    "import numpy as np\n",
    "import os\n",
    "import matplotlib\n",
    "import matplotlib.pyplot as plt\n",
    "plt.rcParams['axes.labelsize'] = 14\n",
    "plt.rcParams['xtick.labelsize'] = 12\n",
    "plt.rcParams['ytick.labelsize'] = 12\n",
    "import warnings\n",
    "warnings.filterwarnings('ignore')\n",
    "np.random.seed(42)"
   ]
  },
  {
   "cell_type": "markdown",
   "metadata": {},
   "source": [
    "## 数据集读取"
   ]
  },
  {
   "cell_type": "code",
   "execution_count": 2,
   "metadata": {},
   "outputs": [],
   "source": [
    "from sklearn.datasets import fetch_openml\n",
    "mnist = fetch_openml('mnist_784')\n"
   ]
  },
  {
   "cell_type": "code",
   "execution_count": 3,
   "metadata": {},
   "outputs": [
    {
     "name": "stdout",
     "output_type": "stream",
     "text": [
      "<class 'pandas.core.frame.DataFrame'> <class 'pandas.core.series.Series'>\n",
      "(70000, 784) (70000,)\n"
     ]
    },
    {
     "data": {
      "text/plain": [
       "(   pixel1  pixel2  pixel3\n",
       " 0     0.0     0.0     0.0\n",
       " 1     0.0     0.0     0.0\n",
       " 2     0.0     0.0     0.0,\n",
       " 0    5\n",
       " 1    0\n",
       " 2    4\n",
       " Name: class, dtype: category\n",
       " Categories (10, object): ['0', '1', '2', '3', ..., '6', '7', '8', '9'])"
      ]
     },
     "execution_count": 3,
     "metadata": {},
     "output_type": "execute_result"
    }
   ],
   "source": [
    "X, y = mnist['data'], mnist['target']\n",
    "print(type(X),type(y))\n",
    "print(X.shape, y.shape)\n",
    "X.iloc[:3,:3],y[:3]"
   ]
  },
  {
   "cell_type": "code",
   "execution_count": 4,
   "metadata": {},
   "outputs": [
    {
     "name": "stdout",
     "output_type": "stream",
     "text": [
      "[12628 37730 39991  8525  8279 51012 14871 15127  9366 33322]\n"
     ]
    }
   ],
   "source": [
    "X, y = X.values, y.values\n",
    "X[:10,:10],y[:10]\n",
    "X_train, X_test, y_train, y_test = X[:60000], X[60000:], y[:60000], y[60000:]\n",
    "# 洗牌\n",
    "shuffle_index = np.random.permutation(60000)\n",
    "print(shuffle_index[:10])\n",
    "X_train, y_train = X_train[shuffle_index], y_train[shuffle_index]"
   ]
  },
  {
   "cell_type": "markdown",
   "metadata": {},
   "source": [
    "## 交叉验证"
   ]
  },
  {
   "cell_type": "code",
   "execution_count": 5,
   "metadata": {},
   "outputs": [
    {
     "data": {
      "text/plain": [
       "array([False, False, False, False, False, False, False, False,  True,\n",
       "       False])"
      ]
     },
     "execution_count": 5,
     "metadata": {},
     "output_type": "execute_result"
    }
   ],
   "source": [
    "# 将十分类转变为二分类\n",
    "y_train_5 = (y_train=='5')\n",
    "y_test_5 = (y_test=='5')\n",
    "y_test_5[:10]"
   ]
  },
  {
   "cell_type": "code",
   "execution_count": 6,
   "metadata": {},
   "outputs": [
    {
     "data": {
      "text/html": [
       "<style>#sk-container-id-1 {color: black;background-color: white;}#sk-container-id-1 pre{padding: 0;}#sk-container-id-1 div.sk-toggleable {background-color: white;}#sk-container-id-1 label.sk-toggleable__label {cursor: pointer;display: block;width: 100%;margin-bottom: 0;padding: 0.3em;box-sizing: border-box;text-align: center;}#sk-container-id-1 label.sk-toggleable__label-arrow:before {content: \"▸\";float: left;margin-right: 0.25em;color: #696969;}#sk-container-id-1 label.sk-toggleable__label-arrow:hover:before {color: black;}#sk-container-id-1 div.sk-estimator:hover label.sk-toggleable__label-arrow:before {color: black;}#sk-container-id-1 div.sk-toggleable__content {max-height: 0;max-width: 0;overflow: hidden;text-align: left;background-color: #f0f8ff;}#sk-container-id-1 div.sk-toggleable__content pre {margin: 0.2em;color: black;border-radius: 0.25em;background-color: #f0f8ff;}#sk-container-id-1 input.sk-toggleable__control:checked~div.sk-toggleable__content {max-height: 200px;max-width: 100%;overflow: auto;}#sk-container-id-1 input.sk-toggleable__control:checked~label.sk-toggleable__label-arrow:before {content: \"▾\";}#sk-container-id-1 div.sk-estimator input.sk-toggleable__control:checked~label.sk-toggleable__label {background-color: #d4ebff;}#sk-container-id-1 div.sk-label input.sk-toggleable__control:checked~label.sk-toggleable__label {background-color: #d4ebff;}#sk-container-id-1 input.sk-hidden--visually {border: 0;clip: rect(1px 1px 1px 1px);clip: rect(1px, 1px, 1px, 1px);height: 1px;margin: -1px;overflow: hidden;padding: 0;position: absolute;width: 1px;}#sk-container-id-1 div.sk-estimator {font-family: monospace;background-color: #f0f8ff;border: 1px dotted black;border-radius: 0.25em;box-sizing: border-box;margin-bottom: 0.5em;}#sk-container-id-1 div.sk-estimator:hover {background-color: #d4ebff;}#sk-container-id-1 div.sk-parallel-item::after {content: \"\";width: 100%;border-bottom: 1px solid gray;flex-grow: 1;}#sk-container-id-1 div.sk-label:hover label.sk-toggleable__label {background-color: #d4ebff;}#sk-container-id-1 div.sk-serial::before {content: \"\";position: absolute;border-left: 1px solid gray;box-sizing: border-box;top: 0;bottom: 0;left: 50%;z-index: 0;}#sk-container-id-1 div.sk-serial {display: flex;flex-direction: column;align-items: center;background-color: white;padding-right: 0.2em;padding-left: 0.2em;position: relative;}#sk-container-id-1 div.sk-item {position: relative;z-index: 1;}#sk-container-id-1 div.sk-parallel {display: flex;align-items: stretch;justify-content: center;background-color: white;position: relative;}#sk-container-id-1 div.sk-item::before, #sk-container-id-1 div.sk-parallel-item::before {content: \"\";position: absolute;border-left: 1px solid gray;box-sizing: border-box;top: 0;bottom: 0;left: 50%;z-index: -1;}#sk-container-id-1 div.sk-parallel-item {display: flex;flex-direction: column;z-index: 1;position: relative;background-color: white;}#sk-container-id-1 div.sk-parallel-item:first-child::after {align-self: flex-end;width: 50%;}#sk-container-id-1 div.sk-parallel-item:last-child::after {align-self: flex-start;width: 50%;}#sk-container-id-1 div.sk-parallel-item:only-child::after {width: 0;}#sk-container-id-1 div.sk-dashed-wrapped {border: 1px dashed gray;margin: 0 0.4em 0.5em 0.4em;box-sizing: border-box;padding-bottom: 0.4em;background-color: white;}#sk-container-id-1 div.sk-label label {font-family: monospace;font-weight: bold;display: inline-block;line-height: 1.2em;}#sk-container-id-1 div.sk-label-container {text-align: center;}#sk-container-id-1 div.sk-container {/* jupyter's `normalize.less` sets `[hidden] { display: none; }` but bootstrap.min.css set `[hidden] { display: none !important; }` so we also need the `!important` here to be able to override the default hidden behavior on the sphinx rendered scikit-learn.org. See: https://github.com/scikit-learn/scikit-learn/issues/21755 */display: inline-block !important;position: relative;}#sk-container-id-1 div.sk-text-repr-fallback {display: none;}</style><div id=\"sk-container-id-1\" class=\"sk-top-container\"><div class=\"sk-text-repr-fallback\"><pre>SGDClassifier(max_iter=5, random_state=42)</pre><b>In a Jupyter environment, please rerun this cell to show the HTML representation or trust the notebook. <br />On GitHub, the HTML representation is unable to render, please try loading this page with nbviewer.org.</b></div><div class=\"sk-container\" hidden><div class=\"sk-item\"><div class=\"sk-estimator sk-toggleable\"><input class=\"sk-toggleable__control sk-hidden--visually\" id=\"sk-estimator-id-1\" type=\"checkbox\" checked><label for=\"sk-estimator-id-1\" class=\"sk-toggleable__label sk-toggleable__label-arrow\">SGDClassifier</label><div class=\"sk-toggleable__content\"><pre>SGDClassifier(max_iter=5, random_state=42)</pre></div></div></div></div></div>"
      ],
      "text/plain": [
       "SGDClassifier(max_iter=5, random_state=42)"
      ]
     },
     "execution_count": 6,
     "metadata": {},
     "output_type": "execute_result"
    }
   ],
   "source": [
    "from sklearn.linear_model import SGDClassifier\n",
    "sgd_clf = SGDClassifier(max_iter=5, random_state=42)\n",
    "sgd_clf.fit(X_train, y_train_5)"
   ]
  },
  {
   "cell_type": "code",
   "execution_count": 7,
   "metadata": {},
   "outputs": [
    {
     "name": "stdout",
     "output_type": "stream",
     "text": [
      "[ True]\n",
      "5\n"
     ]
    }
   ],
   "source": [
    "print(sgd_clf.predict([X[3500]]))\n",
    "print(y[3500])"
   ]
  },
  {
   "cell_type": "code",
   "execution_count": 8,
   "metadata": {},
   "outputs": [
    {
     "name": "stdout",
     "output_type": "stream",
     "text": [
      "{'fit_time': array([0.67521906, 0.67321801, 0.67321801]), 'score_time': array([0.0498476 , 0.0498395 , 0.05084038]), 'test_score': array([0.964 , 0.9579, 0.9571])}\n",
      "\n",
      "{'fit_time': array([1.52542305, 1.33958817, 1.46742105, 1.45673943, 1.48141956]), 'score_time': array([0.05599713, 0.05357599, 0.0510006 , 0.0716939 , 0.05400085]), 'test_score': array([0.96158333, 0.9575    , 0.96166667, 0.9605    , 0.96083333])}\n"
     ]
    }
   ],
   "source": [
    "# 用函数直接调用结果进行交叉验证\n",
    "from sklearn.model_selection import cross_validate\n",
    "print(cross_validate(sgd_clf, X_train, y_train_5, cv=3, n_jobs=-1, scoring='accuracy')) # scoring是评分方法\n",
    "print()\n",
    "print(cross_validate(sgd_clf, X_train, y_train_5, cv=5, n_jobs=-1, scoring='accuracy')) # scoring是评分方法"
   ]
  },
  {
   "cell_type": "code",
   "execution_count": 9,
   "metadata": {},
   "outputs": [
    {
     "name": "stdout",
     "output_type": "stream",
     "text": [
      "正确率： 0.87715\n",
      "正确率： 0.8723\n",
      "正确率： 0.8407\n"
     ]
    }
   ],
   "source": [
    "# 自己分组进行交叉验证\n",
    "from sklearn.model_selection import StratifiedKFold \n",
    "from sklearn.base import clone # 克隆 estimator\n",
    "skflods = StratifiedKFold(n_splits=3, shuffle=True, random_state=42)\n",
    "for train_index, valid_index in skflods.split(X_train, y_train_5):\n",
    "    X_train_flod = X_train[train_index]\n",
    "    y_train_flod = y_train[train_index]\n",
    "    \n",
    "    X_valid_flod = X_train[valid_index]\n",
    "    y_valid_flod = y_train[valid_index]\n",
    "\n",
    "    sgd_clf_flod = clone(sgd_clf)\n",
    "    sgd_clf_flod.fit(X_train_flod, y_train_flod)\n",
    "    y_pre_flod = sgd_clf_flod.predict(X_valid_flod)\n",
    "    \n",
    "    num_correct = np.sum(y_pre_flod == y_valid_flod)\n",
    "    print(\"正确率：\", num_correct / len(y_pre_flod))\n",
    "    # print(len(y_pre_flod), len(y_valid_flod))"
   ]
  },
  {
   "cell_type": "code",
   "execution_count": 10,
   "metadata": {},
   "outputs": [
    {
     "name": "stdout",
     "output_type": "stream",
     "text": [
      "[[ 2  3]\n",
      " [ 4  5]\n",
      " [ 8  9]\n",
      " [10 11]] [0 0 1 1]\n",
      "[[0 1]\n",
      " [6 7]] [0 1]\n",
      "---\n",
      "[[ 0  1]\n",
      " [ 4  5]\n",
      " [ 6  7]\n",
      " [10 11]] [0 0 1 1]\n",
      "[[2 3]\n",
      " [8 9]] [0 1]\n",
      "---\n",
      "[[0 1]\n",
      " [2 3]\n",
      " [6 7]\n",
      " [8 9]] [0 0 1 1]\n",
      "[[ 4  5]\n",
      " [10 11]] [0 1]\n",
      "---\n"
     ]
    }
   ],
   "source": [
    "# StratifiedGroupKFold 测试\n",
    "from sklearn.model_selection import StratifiedKFold \n",
    "X_ = np.arange(12).reshape((6,2))\n",
    "y_ = np.array([0, 0, 0, 1, 1, 1])\n",
    "skflods_ = StratifiedKFold(n_splits=3)\n",
    "for i,j in skflods_.split(X_, y_):\n",
    "    print(X_[i], y_[i])\n",
    "    print(X_[j], y_[j])\n",
    "    print('---')"
   ]
  },
  {
   "cell_type": "code",
   "execution_count": 48,
   "metadata": {},
   "outputs": [
    {
     "data": {
      "text/plain": [
       "((60000,), (60000, 784))"
      ]
     },
     "execution_count": 48,
     "metadata": {},
     "output_type": "execute_result"
    }
   ],
   "source": [
    "# 交叉验证 - 返回的是验证集的预测结果 - 由于是训练集每一部分都会被预测，返回的是所有训练集的测试结果\n",
    "from sklearn.model_selection import cross_val_predict\n",
    "y_train_pred = cross_val_predict(sgd_clf, X_train, y_train_5, cv=5, n_jobs=-1)\n",
    "y_train_pred.shape, X_train.shape"
   ]
  },
  {
   "cell_type": "markdown",
   "metadata": {},
   "source": [
    "## 混淆矩阵"
   ]
  },
  {
   "cell_type": "code",
   "execution_count": 12,
   "metadata": {},
   "outputs": [
    {
     "data": {
      "text/plain": [
       "array([[53784,   795],\n",
       "       [ 1580,  3841]], dtype=int64)"
      ]
     },
     "execution_count": 12,
     "metadata": {},
     "output_type": "execute_result"
    }
   ],
   "source": [
    "from sklearn.metrics import confusion_matrix\n",
    "confusion_matrix(y_train_5, y_train_pred) # TN FP \\ FN TP"
   ]
  },
  {
   "cell_type": "code",
   "execution_count": 13,
   "metadata": {},
   "outputs": [
    {
     "data": {
      "text/plain": [
       "(0.8285159620362381, 0.7085408596199964)"
      ]
     },
     "execution_count": 13,
     "metadata": {},
     "output_type": "execute_result"
    }
   ],
   "source": [
    "# precision_score and recall_score\n",
    "from sklearn.metrics import precision_score, recall_score\n",
    "precision_score(y_train_5, y_train_pred),recall_score(y_train_5, y_train_pred)"
   ]
  },
  {
   "cell_type": "code",
   "execution_count": 14,
   "metadata": {},
   "outputs": [
    {
     "data": {
      "text/plain": [
       "0.7638460773590535"
      ]
     },
     "execution_count": 14,
     "metadata": {},
     "output_type": "execute_result"
    }
   ],
   "source": [
    "# f1_score - f1_score = 2/(1/precision_score + 1/recall_score)\n",
    "from sklearn.metrics import f1_score\n",
    "f1_score(y_train_5, y_train_pred)"
   ]
  },
  {
   "cell_type": "markdown",
   "metadata": {},
   "source": [
    "## 阈值对结果的影响"
   ]
  },
  {
   "cell_type": "code",
   "execution_count": 92,
   "metadata": {},
   "outputs": [
    {
     "name": "stdout",
     "output_type": "stream",
     "text": [
      "['5', '0', '4']\n",
      "Categories (10, object): ['0', '1', '2', '3', ..., '6', '7', '8', '9']\n"
     ]
    },
    {
     "data": {
      "text/plain": [
       "(array([  39607.23825616, -519866.94604343, -662640.07818007]),\n",
       " array([ True, False, False]))"
      ]
     },
     "execution_count": 92,
     "metadata": {},
     "output_type": "execute_result"
    }
   ],
   "source": [
    "y_scores_ = sgd_clf.decision_function([X[0],X[1],X[2]])  # 传入特征，返回它的得分值\n",
    "y_pre_ = sgd_clf.predict([X[0],X[1],X[2]])\n",
    "print(y[[0,1,2]])\n",
    "y_scores_, y_pre_"
   ]
  },
  {
   "cell_type": "code",
   "execution_count": 53,
   "metadata": {},
   "outputs": [
    {
     "name": "stdout",
     "output_type": "stream",
     "text": [
      "[[54547    32]\n",
      " [ 3489  1932]]\n",
      "精度, recall: 0.9837067209775967 0.3563918096292197\n",
      "[[54385   194]\n",
      " [ 1839  3582]]\n",
      "精度, recall: 0.9486228813559322 0.6607636967349197\n"
     ]
    }
   ],
   "source": [
    "# 重新设置阈值计算 confusion_matrix，阈值越高，recall 越小，precision 越大\n",
    "# 下面展示的是拿 X_train 训练的东西去预测 X_train，不推荐这么做\n",
    "# 阈值 50000\n",
    "y_scores_ = sgd_clf.decision_function(X_train)\n",
    "y_train_pred_50000 = y_scores_ >= 50000 # 把阈值设置为50000，当大于此值时判定为5\n",
    "print(confusion_matrix(y_train_5, y_train_pred_50000)) # TN FP \\ FN TP\n",
    "print('精度, recall:',precision_score(y_train_5, y_train_pred_50000),recall_score(y_train_5, y_train_pred_50000))\n",
    "\n",
    "# 阈值 -40000 \n",
    "y_train_pred_40000 = y_scores_ >= -40000 # 把阈值设置为50000，当大于此值时判定为5\n",
    "print(confusion_matrix(y_train_5, y_train_pred_40000)) # TN FP \\ FN TP\n",
    "print('精度, recall:',precision_score(y_train_5, y_train_pred_40000),recall_score(y_train_5, y_train_pred_40000))"
   ]
  },
  {
   "cell_type": "markdown",
   "metadata": {},
   "source": [
    "## precision - recall 曲线"
   ]
  },
  {
   "cell_type": "markdown",
   "metadata": {},
   "source": [
    "Scikitlearn 不允许直接设置阈值，但是可以得到决策分数(调用decision_function() 方法)，而不是调用predict()，返回分数后在手动设置阈值"
   ]
  },
  {
   "cell_type": "code",
   "execution_count": 109,
   "metadata": {},
   "outputs": [
    {
     "data": {
      "text/plain": [
       "array([-545086.1906455 , -200238.20632717, -366873.76172794, ...,\n",
       "       -626454.84454281, -716313.74931348, -581950.04601147])"
      ]
     },
     "execution_count": 109,
     "metadata": {},
     "output_type": "execute_result"
    }
   ],
   "source": [
    "y_scores = cross_val_predict(sgd_clf, X_train, y_train_5, cv=3, n_jobs=-1, method =\"decision_function\")\n",
    "y_scores"
   ]
  },
  {
   "cell_type": "code",
   "execution_count": 110,
   "metadata": {},
   "outputs": [
    {
     "data": {
      "text/plain": [
       "((60000,), (60001,), (60001,))"
      ]
     },
     "execution_count": 110,
     "metadata": {},
     "output_type": "execute_result"
    }
   ],
   "source": [
    "from sklearn.metrics import precision_recall_curve\n",
    "precisions, recalls, threholds = precision_recall_curve(y_train_5, y_scores)\n",
    "threholds.shape, precisions.shape, recalls.shape"
   ]
  },
  {
   "cell_type": "code",
   "execution_count": 111,
   "metadata": {},
   "outputs": [
    {
     "data": {
      "image/png": "[encoded data removed]",
      "text/plain": [
       "<Figure size 576x288 with 1 Axes>"
      ]
     },
     "metadata": {
      "needs_background": "light"
     },
     "output_type": "display_data"
    }
   ],
   "source": [
    "def plot_precision_recall_curve(precisons, recalls, threholds):\n",
    "    plt.plot(threholds, precisions[:-1], '--', label=\"precision\")\n",
    "    plt.plot(threholds, recalls[:-1], '-', label=\"recalls\")\n",
    "    plt.legend()\n",
    "\n",
    "def plot_precision_vs_recall_curve(precisions, recalls):\n",
    "    x = range(len(precisions))\n",
    "    plt.plot(recalls, precisions)\n",
    "    plt.xlabel('reacall')\n",
    "    plt.ylabel('precision')\n",
    "    plt.title('precision_vs_recall')\n",
    "\n",
    "plt.figure(figsize=(8,4))\n",
    "plot_precision_recall_curve(precisions, recalls, threholds)\n",
    "plt.xlim([-700000,700000])\n",
    "plt.show()"
   ]
  },
  {
   "cell_type": "code",
   "execution_count": 112,
   "metadata": {},
   "outputs": [
    {
     "data": {
      "image/png": "[encoded data removed]",
      "text/plain": [
       "<Figure size 432x288 with 1 Axes>"
      ]
     },
     "metadata": {
      "needs_background": "light"
     },
     "output_type": "display_data"
    }
   ],
   "source": [
    "plot_precision_vs_recall_curve(precisions, recalls)"
   ]
  },
  {
   "cell_type": "markdown",
   "metadata": {},
   "source": [
    "## ROC 曲线"
   ]
  },
  {
   "cell_type": "code",
   "execution_count": 115,
   "metadata": {},
   "outputs": [
    {
     "data": {
      "text/plain": [
       "((3636,), (3636,), (60000,))"
      ]
     },
     "execution_count": 115,
     "metadata": {},
     "output_type": "execute_result"
    }
   ],
   "source": [
    "# 通过sklearn绘制roc曲线\n",
    "from sklearn.metrics import roc_curve\n",
    "fpr, tpr, thresholds = roc_curve(y_train_5, y_scores) # false_positive_rate, ture_positive_rate\n",
    "fpr.shape, tpr.shape, threholds.shape"
   ]
  },
  {
   "cell_type": "code",
   "execution_count": 116,
   "metadata": {},
   "outputs": [
    {
     "data": {
      "image/png": "[encoded data removed]",
      "text/plain": [
       "<Figure size 432x432 with 1 Axes>"
      ]
     },
     "metadata": {
      "needs_background": "light"
     },
     "output_type": "display_data"
    }
   ],
   "source": [
    "def plot_roc_curve(fpr, tpr, label=None):\n",
    "    plt.plot(fpr, tpr, '.', label=label)\n",
    "    plt.plot([0,1],[0,1],'k--')\n",
    "    plt.xlabel('false_positive_rate')\n",
    "    plt.ylabel('true_positive_rate')\n",
    "plt.figure(figsize=(6,6))\n",
    "plot_roc_curve(fpr,tpr)\n",
    "plt.show()"
   ]
  },
  {
   "cell_type": "code",
   "execution_count": 120,
   "metadata": {},
   "outputs": [
    {
     "data": {
      "image/png": "[encoded data removed]",
      "text/plain": [
       "<Figure size 432x288 with 1 Axes>"
      ]
     },
     "metadata": {
      "needs_background": "light"
     },
     "output_type": "display_data"
    }
   ],
   "source": [
    "# 通过计算绘制roc曲线 - 下面运行要5min左右\n",
    "num_is5 = np.sum(y_train_5)\n",
    "num_not5 = len(y_train_5) - num_is5\n",
    "\n",
    "fprs,tprs,threholds = [],[],[]\n",
    "for index,score in enumerate(y_scores[:-1]):\n",
    "    threhold = (y_scores[index] + y_scores[index+1])/2\n",
    "    y_pred_each_threhold = (y_scores > threhold)\n",
    "    cm = confusion_matrix(y_train_5, y_pred_each_threhold)\n",
    "    fpr,tpr = cm[0,1]/num_not5, cm[1,1]/num_is5\n",
    "    fprs.append(fpr)\n",
    "    tprs.append(tpr)\n",
    "    threholds.append(threhold)\n",
    "plot_roc_curve(fprs,tprs)"
   ]
  }
 ],
 "metadata": {
  "kernelspec": {
   "display_name": "Python 3.8.8 ('base')",
   "language": "python",
   "name": "python3"
  },
  "language_info": {
   "codemirror_mode": {
    "name": "ipython",
    "version": 3
   },
   "file_extension": ".py",
   "mimetype": "text/x-python",
   "name": "python",
   "nbconvert_exporter": "python",
   "pygments_lexer": "ipython3",
   "version": "3.8.8"
  },
  "orig_nbformat": 4,
  "vscode": {
   "interpreter": {
    "hash": "e665bd0c90333571dc6e242ea46570f71accaf8375c022a57c8259094a5d60b9"
   }
  }
 },
 "nbformat": 4,
 "nbformat_minor": 2
}
