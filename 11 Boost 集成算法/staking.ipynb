{
 "cells": [
  {
   "cell_type": "code",
   "execution_count": 1,
   "id": "9b645668",
   "metadata": {},
   "outputs": [],
   "source": [
    "import numpy as np\n",
    "import os\n",
    "%matplotlib inline\n",
    "import matplotlib\n",
    "import matplotlib.pyplot as plt\n",
    "plt.rcParams['font.sans-serif'] = 'Arial'\n",
    "plt.rcParams['axes.labelsize'] = 14\n",
    "plt.rcParams['axes.titlesize'] = 16\n",
    "import warnings\n",
    "warnings.filterwarnings('ignore')\n",
    "np.random.seed(42)"
   ]
  },
  {
   "cell_type": "code",
   "execution_count": 3,
   "id": "1fd69fcb",
   "metadata": {},
   "outputs": [],
   "source": [
    "from sklearn.datasets import load_digits\n",
    "\n",
    "digits = load_digits()\n",
    "X = digits.data\n",
    "y = digits.target\n",
    "\n",
    "from sklearn.model_selection import train_test_split\n",
    "X_train, X_test, y_train, y_test = train_test_split(X,y)"
   ]
  },
  {
   "cell_type": "code",
   "execution_count": 48,
   "id": "676987f1",
   "metadata": {},
   "outputs": [],
   "source": [
    "from sklearn.ensemble import RandomForestClassifier, ExtraTreesClassifier, AdaBoostClassifier, GradientBoostingClassifier\n",
    "from sklearn.svm import LinearSVC\n",
    "from sklearn.neural_network import MLPClassifier\n",
    "from sklearn.linear_model import LogisticRegression\n",
    "from sklearn.tree import DecisionTreeClassifier\n",
    "from sklearn.metrics import f1_score"
   ]
  },
  {
   "cell_type": "code",
   "execution_count": 57,
   "id": "d4f7df19",
   "metadata": {},
   "outputs": [
    {
     "name": "stdout",
     "output_type": "stream",
     "text": [
      "f1 scores for RandomForestClassifier: 0.9867007700821758\n",
      "f1 scores for ExtraTreesClassifier: 0.9888242439362629\n",
      "f1 scores for GradientBoostingClassifier: 0.9756606160597092\n",
      "f1 scores for AdaBoostClassifier: 0.9385439244282572\n",
      "f1 scores for LinearSVC: 0.9535300033007191\n",
      "f1 scores for MLPClassifier: 0.9844145551156823\n"
     ]
    }
   ],
   "source": [
    "# 第一步\n",
    "forest_clf = RandomForestClassifier(random_state=42)\n",
    "extra_tree_clf = ExtraTreesClassifier(random_state=42)\n",
    "gbdt_clf = GradientBoostingClassifier(random_state=42)\n",
    "ada_boost_clf = AdaBoostClassifier(base_estimator=LogisticRegression(max_iter=200,solver='newton-cg',n_jobs=-1,random_state=42),\n",
    "                                   n_estimators=100,learning_rate=0.5,random_state=42)\n",
    "svc_clf = LinearSVC(random_state=42)\n",
    "mlp_clf = MLPClassifier(random_state=42)\n",
    "\n",
    "# 集成以上算法\n",
    "clfs = [forest_clf,extra_tree_clf,gbdt_clf,ada_boost_clf,svc_clf,mlp_clf]\n",
    "\n",
    "X_train_new = np.empty((len(X_train),len(clfs)))\n",
    "for index,clf in enumerate(clfs):\n",
    "    clf.fit(X_train, y_train)\n",
    "    X_train_new[:,index] = clf.predict(X_train)\n",
    "    print(f\"f1 scores for {clf.__class__.__name__}: {f1_score(y_test, clf.predict(X_test), average='weighted')}\")"
   ]
  },
  {
   "cell_type": "code",
   "execution_count": 58,
   "id": "c27ac4ee",
   "metadata": {},
   "outputs": [
    {
     "data": {
      "text/plain": [
       "(array([[4., 4., 4., 4., 4., 4.],\n",
       "        [4., 4., 4., 4., 4., 4.],\n",
       "        [2., 2., 2., 2., 2., 2.],\n",
       "        [7., 7., 7., 7., 7., 7.],\n",
       "        [4., 4., 4., 4., 4., 4.],\n",
       "        [5., 5., 5., 5., 5., 5.],\n",
       "        [6., 6., 6., 6., 6., 6.],\n",
       "        [7., 7., 7., 7., 7., 7.],\n",
       "        [3., 3., 3., 3., 3., 3.],\n",
       "        [0., 0., 0., 0., 0., 0.]]),\n",
       " 1347)"
      ]
     },
     "execution_count": 58,
     "metadata": {},
     "output_type": "execute_result"
    }
   ],
   "source": [
    "X_train_new[:10], len(X_train_new)"
   ]
  },
  {
   "cell_type": "code",
   "execution_count": 59,
   "id": "94f2c5d1",
   "metadata": {},
   "outputs": [
    {
     "data": {
      "text/plain": [
       "0.9910446961686625"
      ]
     },
     "execution_count": 59,
     "metadata": {},
     "output_type": "execute_result"
    }
   ],
   "source": [
    "# 第二步\n",
    "forest_clf = RandomForestClassifier(n_estimators=200,\n",
    "                                    max_samples=1000,\n",
    "                                    oob_score=True,\n",
    "                                    random_state=42)\n",
    "forest_clf.fit(X_train_new, y_train)\n",
    "\n",
    "# 在测试集上的得分\n",
    "X_test_new = np.empty((len(X_test),len(clfs)))\n",
    "for index,clf in enumerate(clfs):\n",
    "    X_test_new[:,index] = clf.predict(X_test)\n",
    "    \n",
    "y_pred = forest_clf.predict(X_test_new)\n",
    "f1_score(y_test, y_pred, average='weighted')"
   ]
  },
  {
   "cell_type": "code",
   "execution_count": 72,
   "id": "23073459",
   "metadata": {},
   "outputs": [
    {
     "data": {
      "text/plain": [
       "array([8, 5, 8, 8])"
      ]
     },
     "execution_count": 72,
     "metadata": {},
     "output_type": "execute_result"
    }
   ],
   "source": [
    "# 展示预测错的图片\n",
    "pred_error_data = X_test[y_test != y_pred]\n",
    "pred_error_real_label = y_test[y_test != y_pred]\n",
    "pred_error_real_label"
   ]
  },
  {
   "cell_type": "code",
   "execution_count": 68,
   "id": "7f30abde",
   "metadata": {},
   "outputs": [
    {
     "data": {
      "image/png": "[encoded data removed]",
      "text/plain": [
       "<Figure size 432x288 with 4 Axes>"
      ]
     },
     "metadata": {
      "needs_background": "light"
     },
     "output_type": "display_data"
    }
   ],
   "source": [
    "pred_error_image = pred_error_data.reshape(4,8,8)\n",
    "count = 1\n",
    "for image in pred_error_image:\n",
    "    plt.subplot(1,len(pred_error_image),count)\n",
    "    plt.imshow(image)\n",
    "    count += 1"
   ]
  }
 ],
 "metadata": {
  "kernelspec": {
   "display_name": "Python 3 (ipykernel)",
   "language": "python",
   "name": "python3"
  },
  "language_info": {
   "codemirror_mode": {
    "name": "ipython",
    "version": 3
   },
   "file_extension": ".py",
   "mimetype": "text/x-python",
   "name": "python",
   "nbconvert_exporter": "python",
   "pygments_lexer": "ipython3",
   "version": "3.8.8"
  }
 },
 "nbformat": 4,
 "nbformat_minor": 5
}
