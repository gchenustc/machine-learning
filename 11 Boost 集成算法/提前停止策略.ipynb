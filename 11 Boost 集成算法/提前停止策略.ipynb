{
 "cells": [
  {
   "cell_type": "markdown",
   "id": "58da9daf",
   "metadata": {},
   "source": [
    "## 准备"
   ]
  },
  {
   "cell_type": "code",
   "execution_count": 6,
   "id": "ce979d0f",
   "metadata": {},
   "outputs": [],
   "source": [
    "import numpy as np\n",
    "import os\n",
    "%matplotlib inline\n",
    "import matplotlib\n",
    "import matplotlib.pyplot as plt\n",
    "plt.rcParams['font.sans-serif'] = 'Arial'\n",
    "plt.rcParams['axes.labelsize'] = 14\n",
    "plt.rcParams['axes.titlesize'] = 16\n",
    "import warnings\n",
    "warnings.filterwarnings('ignore')\n",
    "np.random.seed(42)\n",
    "\n",
    "# 决策边界函数\n",
    "#from matplotlib.colors import ListedColormap\n",
    "def decision_boundary_regression(clf, X, y, axis=[0,2.5,0,20], xlabel=\"x\", ylabel=\"y\", style=\"r-\",\n",
    "                                 plot_training = True, data_style=\"b.\", title=\"decision_boundary\"):\n",
    "    if plot_training:\n",
    "        plt.plot(X, y, data_style)\n",
    "    \n",
    "    x1 = np.linspace(axis[0], axis[1], 100).reshape(-1,1)\n",
    "    y1 = clf.predict(x1)\n",
    "    plt.plot(x1, y1, style)\n",
    "    plt.xlabel(xlabel)\n",
    "    plt.ylabel(ylabel)\n",
    "    plt.axis(axis)\n",
    "    plt.title(title)"
   ]
  },
  {
   "cell_type": "markdown",
   "id": "43206182",
   "metadata": {},
   "source": [
    "## 构造数据"
   ]
  },
  {
   "cell_type": "code",
   "execution_count": 5,
   "id": "fed9b069",
   "metadata": {},
   "outputs": [
    {
     "data": {
      "text/plain": [
       "[<matplotlib.lines.Line2D at 0x7fa8e4269dc0>]"
      ]
     },
     "execution_count": 5,
     "metadata": {},
     "output_type": "execute_result"
    },
    {
     "data": {
      "image/png": "[encoded data removed]",
      "text/plain": [
       "<Figure size 432x288 with 1 Axes>"
      ]
     },
     "metadata": {
      "needs_background": "light"
     },
     "output_type": "display_data"
    }
   ],
   "source": [
    "np.random.seed(42)\n",
    "X = np.random.rand(100,1)*3 - 0.5\n",
    "y = 3 * (X.flatten() - 1)**2 + 0.5 * np.random.randn(100)\n",
    "from sklearn.model_selection import train_test_split\n",
    "X_train, X_test, y_train, y_test = train_test_split(X,y)\n",
    "plt.plot(X,y,'.')"
   ]
  },
  {
   "cell_type": "markdown",
   "id": "084f9cad",
   "metadata": {},
   "source": [
    "## 训练 \n",
    "-- 测试最优 n_estimators"
   ]
  },
  {
   "cell_type": "markdown",
   "id": "00559542",
   "metadata": {},
   "source": [
    "### 手动测试"
   ]
  },
  {
   "cell_type": "code",
   "execution_count": 20,
   "id": "23607b08",
   "metadata": {},
   "outputs": [],
   "source": [
    "from sklearn.metrics import mean_squared_error\n",
    "from sklearn.ensemble import GradientBoostingRegressor\n",
    "\n",
    "gbrt = GradientBoostingRegressor(\n",
    "    max_depth = 2,\n",
    "    learning_rate=0.05,\n",
    "    warm_start=True,\n",
    "    \n",
    "    random_state=0,\n",
    ")\n",
    "\n",
    "n_estimators = 500\n",
    "\n",
    "\"\"\"\n",
    "在 0 - n_estimators 之间的数字赋值给gbrt 中的 n_estimators，计算每次的 error，\n",
    "当 error 随着模型个数开始上升时(以五次为标准)停止测试\n",
    "\"\"\"\n",
    "min_error = float('inf')\n",
    "count = 0 # 计数器，当 mean_square_error 随着 n_estimators 连续上升 n 次后停止迭代\n",
    "for i in range(n_estimators):\n",
    "    gbrt.n_estimators = i+1\n",
    "    gbrt.fit(X_train, y_train)\n",
    "    \n",
    "    error = mean_squared_error(y_test,gbrt.predict(X_test))\n",
    "    if error < min_error:\n",
    "        min_error = error\n",
    "        count = 0\n",
    "    else:\n",
    "        count += 1\n",
    "        if count == 5:\n",
    "            break"
   ]
  },
  {
   "cell_type": "code",
   "execution_count": 21,
   "id": "df04e278",
   "metadata": {},
   "outputs": [
    {
     "data": {
      "text/plain": [
       "(140, 140)"
      ]
     },
     "execution_count": 21,
     "metadata": {},
     "output_type": "execute_result"
    }
   ],
   "source": [
    "# 最优 n_estimators \n",
    "gbrt.n_estimators, gbrt.n_estimators_ # 前者是赋值的数量，后者是实际的数量"
   ]
  },
  {
   "cell_type": "markdown",
   "id": "d34dd028",
   "metadata": {},
   "source": [
    "### 内置函数测试"
   ]
  },
  {
   "cell_type": "code",
   "execution_count": 37,
   "id": "6fa09cbc",
   "metadata": {},
   "outputs": [
    {
     "data": {
      "text/html": [
       "<style>#sk-container-id-9 {color: black;background-color: white;}#sk-container-id-9 pre{padding: 0;}#sk-container-id-9 div.sk-toggleable {background-color: white;}#sk-container-id-9 label.sk-toggleable__label {cursor: pointer;display: block;width: 100%;margin-bottom: 0;padding: 0.3em;box-sizing: border-box;text-align: center;}#sk-container-id-9 label.sk-toggleable__label-arrow:before {content: \"▸\";float: left;margin-right: 0.25em;color: #696969;}#sk-container-id-9 label.sk-toggleable__label-arrow:hover:before {color: black;}#sk-container-id-9 div.sk-estimator:hover label.sk-toggleable__label-arrow:before {color: black;}#sk-container-id-9 div.sk-toggleable__content {max-height: 0;max-width: 0;overflow: hidden;text-align: left;background-color: #f0f8ff;}#sk-container-id-9 div.sk-toggleable__content pre {margin: 0.2em;color: black;border-radius: 0.25em;background-color: #f0f8ff;}#sk-container-id-9 input.sk-toggleable__control:checked~div.sk-toggleable__content {max-height: 200px;max-width: 100%;overflow: auto;}#sk-container-id-9 input.sk-toggleable__control:checked~label.sk-toggleable__label-arrow:before {content: \"▾\";}#sk-container-id-9 div.sk-estimator input.sk-toggleable__control:checked~label.sk-toggleable__label {background-color: #d4ebff;}#sk-container-id-9 div.sk-label input.sk-toggleable__control:checked~label.sk-toggleable__label {background-color: #d4ebff;}#sk-container-id-9 input.sk-hidden--visually {border: 0;clip: rect(1px 1px 1px 1px);clip: rect(1px, 1px, 1px, 1px);height: 1px;margin: -1px;overflow: hidden;padding: 0;position: absolute;width: 1px;}#sk-container-id-9 div.sk-estimator {font-family: monospace;background-color: #f0f8ff;border: 1px dotted black;border-radius: 0.25em;box-sizing: border-box;margin-bottom: 0.5em;}#sk-container-id-9 div.sk-estimator:hover {background-color: #d4ebff;}#sk-container-id-9 div.sk-parallel-item::after {content: \"\";width: 100%;border-bottom: 1px solid gray;flex-grow: 1;}#sk-container-id-9 div.sk-label:hover label.sk-toggleable__label {background-color: #d4ebff;}#sk-container-id-9 div.sk-serial::before {content: \"\";position: absolute;border-left: 1px solid gray;box-sizing: border-box;top: 0;bottom: 0;left: 50%;z-index: 0;}#sk-container-id-9 div.sk-serial {display: flex;flex-direction: column;align-items: center;background-color: white;padding-right: 0.2em;padding-left: 0.2em;position: relative;}#sk-container-id-9 div.sk-item {position: relative;z-index: 1;}#sk-container-id-9 div.sk-parallel {display: flex;align-items: stretch;justify-content: center;background-color: white;position: relative;}#sk-container-id-9 div.sk-item::before, #sk-container-id-9 div.sk-parallel-item::before {content: \"\";position: absolute;border-left: 1px solid gray;box-sizing: border-box;top: 0;bottom: 0;left: 50%;z-index: -1;}#sk-container-id-9 div.sk-parallel-item {display: flex;flex-direction: column;z-index: 1;position: relative;background-color: white;}#sk-container-id-9 div.sk-parallel-item:first-child::after {align-self: flex-end;width: 50%;}#sk-container-id-9 div.sk-parallel-item:last-child::after {align-self: flex-start;width: 50%;}#sk-container-id-9 div.sk-parallel-item:only-child::after {width: 0;}#sk-container-id-9 div.sk-dashed-wrapped {border: 1px dashed gray;margin: 0 0.4em 0.5em 0.4em;box-sizing: border-box;padding-bottom: 0.4em;background-color: white;}#sk-container-id-9 div.sk-label label {font-family: monospace;font-weight: bold;display: inline-block;line-height: 1.2em;}#sk-container-id-9 div.sk-label-container {text-align: center;}#sk-container-id-9 div.sk-container {/* jupyter's `normalize.less` sets `[hidden] { display: none; }` but bootstrap.min.css set `[hidden] { display: none !important; }` so we also need the `!important` here to be able to override the default hidden behavior on the sphinx rendered scikit-learn.org. See: https://github.com/scikit-learn/scikit-learn/issues/21755 */display: inline-block !important;position: relative;}#sk-container-id-9 div.sk-text-repr-fallback {display: none;}</style><div id=\"sk-container-id-9\" class=\"sk-top-container\"><div class=\"sk-text-repr-fallback\"><pre>GradientBoostingRegressor(learning_rate=0.05, max_depth=2, n_estimators=500,\n",
       "                          n_iter_no_change=5, random_state=0,\n",
       "                          validation_fraction=0.25)</pre><b>In a Jupyter environment, please rerun this cell to show the HTML representation or trust the notebook. <br />On GitHub, the HTML representation is unable to render, please try loading this page with nbviewer.org.</b></div><div class=\"sk-container\" hidden><div class=\"sk-item\"><div class=\"sk-estimator sk-toggleable\"><input class=\"sk-toggleable__control sk-hidden--visually\" id=\"sk-estimator-id-9\" type=\"checkbox\" checked><label for=\"sk-estimator-id-9\" class=\"sk-toggleable__label sk-toggleable__label-arrow\">GradientBoostingRegressor</label><div class=\"sk-toggleable__content\"><pre>GradientBoostingRegressor(learning_rate=0.05, max_depth=2, n_estimators=500,\n",
       "                          n_iter_no_change=5, random_state=0,\n",
       "                          validation_fraction=0.25)</pre></div></div></div></div></div>"
      ],
      "text/plain": [
       "GradientBoostingRegressor(learning_rate=0.05, max_depth=2, n_estimators=500,\n",
       "                          n_iter_no_change=5, random_state=0,\n",
       "                          validation_fraction=0.25)"
      ]
     },
     "execution_count": 37,
     "metadata": {},
     "output_type": "execute_result"
    }
   ],
   "source": [
    "gbrt = GradientBoostingRegressor(\n",
    "    max_depth = 2,\n",
    "    learning_rate=0.05,\n",
    "    n_estimators=500,\n",
    "\n",
    "    loss=\"squared_error\",\n",
    "    validation_fraction=0.25,\n",
    "    n_iter_no_change=5,\n",
    "    random_state=0,\n",
    ")\n",
    "gbrt.fit(X, y)"
   ]
  },
  {
   "cell_type": "code",
   "execution_count": 41,
   "id": "4815fb94",
   "metadata": {},
   "outputs": [
    {
     "data": {
      "text/plain": [
       "(500, 117, 117)"
      ]
     },
     "execution_count": 41,
     "metadata": {},
     "output_type": "execute_result"
    }
   ],
   "source": [
    "# 因为验证集的不同，和手动的有区别\n",
    "gbrt.n_estimators, gbrt.n_estimators_,len(gbrt.train_score_)"
   ]
  },
  {
   "cell_type": "markdown",
   "id": "650aefe0",
   "metadata": {},
   "source": [
    "## 绘制 error 变化曲线"
   ]
  },
  {
   "cell_type": "code",
   "execution_count": 53,
   "id": "44510887",
   "metadata": {},
   "outputs": [
    {
     "data": {
      "text/plain": [
       "(500, 500)"
      ]
     },
     "execution_count": 53,
     "metadata": {},
     "output_type": "execute_result"
    }
   ],
   "source": [
    "gbrt = GradientBoostingRegressor(\n",
    "    max_depth = 2,\n",
    "    learning_rate=0.05,\n",
    "    n_estimators=500,\n",
    "    \n",
    "    loss=mean_squared_error,\n",
    "    random_state=0,\n",
    ")\n",
    "gbrt.fit(X_train, y_train)\n",
    "\n",
    "errors_training = gbrt.train_score_\n",
    "errors_testing = [mean_squared_error(y_test,y_pred) for y_pred in gbrt.staged_predict(X_test)]\n",
    "len(errors_training), len(errors_testing)"
   ]
  },
  {
   "cell_type": "code",
   "execution_count": 54,
   "id": "36ecb67b",
   "metadata": {},
   "outputs": [
    {
     "data": {
      "text/plain": [
       "(0.0, 500.0, 0.0, 0.5)"
      ]
     },
     "execution_count": 54,
     "metadata": {},
     "output_type": "execute_result"
    },
    {
     "data": {
      "image/png": "[encoded data removed]",
      "text/plain": [
       "<Figure size 432x288 with 1 Axes>"
      ]
     },
     "metadata": {
      "needs_background": "light"
     },
     "output_type": "display_data"
    }
   ],
   "source": [
    "plt.plot(errors_training,'b.')\n",
    "plt.axis([0,500,0,0.5])\n",
    "plt.title(\"training errors\")"
   ]
  },
  {
   "cell_type": "code",
   "execution_count": 71,
   "id": "83f8c9e7",
   "metadata": {},
   "outputs": [
    {
     "data": {
      "text/plain": [
       "Text(0.5, 1.0, 'testing errors')"
      ]
     },
     "execution_count": 71,
     "metadata": {},
     "output_type": "execute_result"
    },
    {
     "data": {
      "image/png": "[encoded data removed]",
      "text/plain": [
       "<Figure size 432x288 with 1 Axes>"
      ]
     },
     "metadata": {
      "needs_background": "light"
     },
     "output_type": "display_data"
    }
   ],
   "source": [
    "plt.plot(errors_testing,'b.')\n",
    "plt.axis([0,500,0.20,0.6])\n",
    "plt.title(\"testing errors\")"
   ]
  }
 ],
 "metadata": {
  "kernelspec": {
   "display_name": "Python 3 (ipykernel)",
   "language": "python",
   "name": "python3"
  },
  "language_info": {
   "codemirror_mode": {
    "name": "ipython",
    "version": 3
   },
   "file_extension": ".py",
   "mimetype": "text/x-python",
   "name": "python",
   "nbconvert_exporter": "python",
   "pygments_lexer": "ipython3",
   "version": "3.8.8"
  }
 },
 "nbformat": 4,
 "nbformat_minor": 5
}
