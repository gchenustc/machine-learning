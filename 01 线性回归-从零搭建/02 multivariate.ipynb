{
 "cells": [
  {
   "cell_type": "code",
   "execution_count": 42,
   "metadata": {},
   "outputs": [],
   "source": [
    "import os\n",
    "import numpy as np\n",
    "import matplotlib.pyplot as plt\n",
    "import pandas as pd\n",
    "from linearRegression import *\n",
    "import plotly\n",
    "import plotly.graph_objs as go\n",
    "\n",
    "data = pd.read_csv(\"data/world-happiness-report-2017.csv\", sep=',')\n",
    "train_data = data.sample(frac=0.8)\n",
    "test_data = data.drop(train_data.index)\n",
    "input_param_name_1 = 'Economy..GDP.per.Capita.'\n",
    "input_param_name_2 = 'Freedom'\n",
    "output_param_name = 'Happiness.Score'\n",
    "\n",
    "x_train = train_data[[input_param_name_1, input_param_name_2]].values\n",
    "y_train = train_data[[output_param_name]].values\n",
    "\n",
    "x_test = test_data[[input_param_name_1, input_param_name_2]].values\n",
    "y_test = test_data[[output_param_name]].values"
   ]
  },
  {
   "cell_type": "code",
   "execution_count": 43,
   "metadata": {},
   "outputs": [
    {
     "data": {
      "application/vnd.plotly.v1+json": {
       "config": {
        "linkText": "Export to plot.ly",
        "plotlyServerURL": "https://plot.ly",
        "showLink": false
       },
       "data": [
        {
         "marker": {
          "line": {
           "color": "rgb(255,255,255)",
           "width": 1
          },
          "opacity": 1,
          "size": 10
         },
         "mode": "markers",
         "name": "training set",
         "type": "scatter3d",
         "x": [
          0.381430715322495,
          1.3151752948761,
          1.34327983856201,
          1.55167484283447,
          1.09186446666718,
          0.72688353061676,
          0.85769921541214,
          1.35268235206604,
          0.728870630264282,
          1.15687310695648,
          0.716249227523804,
          1.05469870567322,
          1.22255623340607,
          0.964434325695038,
          0.560479462146759,
          0.65951669216156,
          1.06931757926941,
          0.586682975292206,
          0.900596737861633,
          0.524713635444641,
          1.13077676296234,
          0.431085407733917,
          0.596220076084137,
          0.636406779289246,
          1.39506661891937,
          1.21768391132355,
          0.119041793048382,
          1.49438726902008,
          0.244549930095673,
          0.234305649995804,
          1.23374843597412,
          1.29121541976929,
          1.2860119342804,
          1.35593807697296,
          1.47920441627502,
          0.885416388511658,
          0.872001945972443,
          0,
          0.878114581108093,
          1.10180306434631,
          0.438012987375259,
          0.603048920631409,
          0.367110550403595,
          1.48792338371277,
          1.46378076076508,
          0.783756256103516,
          1.480633020401,
          1.25278460979462,
          1.48709726333618,
          1.36135590076447,
          1.29178786277771,
          1.43092346191406,
          0.091622568666935,
          0.932537317276001,
          1.15360176563263,
          0.996192753314972,
          0.925579309463501,
          1.61646318435669,
          1.00985014438629,
          0.36842092871666,
          1.48238301277161,
          0.375846534967422,
          1.28177809715271,
          1.12843120098114,
          1.10271048545837,
          1.43362653255463,
          0.39724862575531,
          0.951484382152557,
          0.0226431842893362,
          1.10735321044922,
          1.21755969524384,
          1.484414935112,
          1.54625928401947,
          1.31458234786987,
          1.06457793712616,
          0.511135876178741,
          1.38439786434174,
          0.479309022426605,
          0.3502277135849,
          0.89465194940567,
          0.476180493831635,
          0.368610262870789,
          1.37538242340088,
          0.982409417629242,
          1.56497955322266,
          1.62634336948395,
          1.69227766990662,
          0.564305365085602,
          1.08116579055786,
          1.44163393974304,
          1.18529546260834,
          0.0921023488044739,
          1.3412059545517,
          1.3469113111496,
          1.63295245170593,
          1.53062355518341,
          1.28948748111725,
          1.00082039833069,
          1.07937383651733,
          1.02723586559296,
          0.991012394428253,
          1.44357192516327,
          0.833756566047668,
          0.368745893239975,
          1.32087934017181,
          0.521021246910095,
          1.26074862480164,
          1.12112903594971,
          0.591683447360992,
          0.909784495830536,
          0.907975316047668,
          1.07062232494354,
          1.18939554691315,
          1.15655755996704,
          0.233442038297653,
          0.401477217674255,
          1.50394463539124,
          0.786441087722778,
          1.74194359779358,
          0.737299203872681,
          1.1614590883255,
          0.161925330758095,
          0.788547575473785,
          0.648457288742065
         ],
         "y": [
          0.443185955286026,
          0.498465299606323,
          0.588767051696777,
          0.490968644618988,
          0.233335807919502,
          0.23521526157856,
          0.585214674472809,
          0.490946173667908,
          0.240729048848152,
          0.249322608113289,
          0.25471106171608,
          0.479246735572815,
          0.255772292613983,
          0.520303547382355,
          0.452763766050339,
          0.0149958552792668,
          0.208715528249741,
          0.478356659412384,
          0.198303267359734,
          0.471566706895828,
          0.41827192902565,
          0.425962775945663,
          0.454943388700485,
          0.461603492498398,
          0.256450712680817,
          0.457003742456436,
          0.332881182432175,
          0.612924098968506,
          0.348587512969971,
          0.480791091918945,
          0.550026834011078,
          0.402264982461929,
          0.175863519310951,
          0.355111539363861,
          0.611100912094116,
          0.501537680625916,
          0.531310617923737,
          0.270842045545578,
          0.408158332109451,
          0.465733230113983,
          0.16234202682972,
          0.447706192731857,
          0.514492034912109,
          0.562511384487152,
          0.539770722389221,
          0.394952565431595,
          0.627162635326385,
          0.376895278692245,
          0.567766189575195,
          0.518630743026733,
          0.520342111587524,
          0.470222115516663,
          0.0599007532000542,
          0.473507791757584,
          0.398155838251114,
          0.381498634815216,
          0.474307239055634,
          0.635422587394714,
          0.561213254928589,
          0.318697690963745,
          0.626006722450256,
          0.336384207010269,
          0.373783111572266,
          0.153997123241425,
          0.288555532693863,
          0.361466586589813,
          0.147062435746193,
          0.260287940502167,
          0.602126955986023,
          0.437453746795654,
          0.57939225435257,
          0.601607382297516,
          0.505740523338318,
          0.234231784939766,
          0.325905978679657,
          0.390017777681351,
          0.408781230449677,
          0.377922266721725,
          0.324367851018906,
          0.122974775731564,
          0.306613743305206,
          0.0303698573261499,
          0.405988603830338,
          0.204403176903725,
          0.620070576667786,
          0.60834527015686,
          0.549840569496155,
          0.430388748645782,
          0.472787708044052,
          0.508190035820007,
          0.494519203901291,
          0.235961347818375,
          0.572575807571411,
          0.471203625202179,
          0.496337592601776,
          0.449750572443008,
          0.0957312509417534,
          0.4551981985569,
          0.55258983373642,
          0.394143968820572,
          0.418421149253845,
          0.617950856685638,
          0.558732926845551,
          0.581843852996826,
          0.479131430387497,
          0.390661299228668,
          0.325707912445068,
          0.194989055395126,
          0.249463722109795,
          0.432452529668808,
          0.547509372234344,
          0.477487415075302,
          0.491247326135635,
          0.295400261878967,
          0.466914653778076,
          0.106179520487785,
          0.585384488105774,
          0.658248662948608,
          0.59662789106369,
          0.447551846504211,
          0.289231717586517,
          0.36365869641304,
          0.571055591106415,
          0.0960980430245399
         ],
         "z": [
          4.08099985122681,
          5.19500017166138,
          6.52699995040894,
          5.47200012207031,
          5.87200021743774,
          5.26900005340576,
          5.42999982833862,
          6.60900020599365,
          5.83799982070923,
          4.69199991226196,
          4.77500009536743,
          4.8289999961853,
          5.29300022125244,
          4.57399988174438,
          4.55299997329712,
          4.13899993896484,
          5.39499998092651,
          4.60799980163574,
          4.37599992752075,
          5.04099988937378,
          5.82200002670288,
          3.65700006484985,
          5.00400018692017,
          4.51399993896484,
          5.96400022506714,
          5.82499980926514,
          3.53299999237061,
          7.28399991989136,
          3.50699996948242,
          4.55000019073486,
          6.4520001411438,
          6.08400011062622,
          5.32399988174438,
          5.62099981307983,
          7.31599998474121,
          5.01100015640259,
          6.4539999961853,
          2.69300007820129,
          5.2350001335144,
          5.52500009536743,
          3.93600010871887,
          4.17999982833862,
          4.54500007629395,
          6.95100021362305,
          6.89099979400635,
          5.07399988174438,
          7.50400018692017,
          6.65199995040894,
          7.00600004196167,
          6.16800022125244,
          5.97300004959106,
          6.44199991226196,
          2.90499997138977,
          5.49300003051758,
          5.23400020599365,
          4.64400005340576,
          5.31099987030029,
          7.53700017929077,
          4.44000005722046,
          4.70900011062622,
          7.52199983596802,
          3.875,
          5.96299982070923,
          5.25,
          4.49700021743774,
          6.42199993133545,
          3.59100008010864,
          5.27899980545044,
          5.15100002288818,
          6.63500022888184,
          6.4539999961853,
          7.28399991989136,
          6.99300003051758,
          5.90199995040894,
          5.17500019073486,
          3.34899997711182,
          6.40299987792969,
          4.53499984741211,
          4.03200006484985,
          4.09600019454956,
          4.19000005722046,
          3.6029999256134,
          7.21299982070923,
          5.18200016021729,
          7.49399995803833,
          6.64799976348877,
          6.57200002670288,
          4.69500017166138,
          5.27299976348877,
          6.71400022506714,
          6.59899997711182,
          4.28000020980835,
          5.75799989700317,
          5.80999994277954,
          6.10500001907349,
          6.3439998626709,
          5.22700023651123,
          6.00799989700317,
          5.23000001907349,
          4.95499992370605,
          5.33599996566772,
          7.4689998626709,
          5.82299995422363,
          3.47099995613098,
          5.61100006103516,
          3.80800008773804,
          5.84999990463257,
          5.23699998855591,
          3.59299993515015,
          6.00299978256226,
          5.95599985122681,
          6.35699987411499,
          5.62900018692017,
          5.56899976730347,
          3.97000002861023,
          3.79399991035461,
          7.3769998550415,
          5.97100019454956,
          6.86299991607666,
          6.07100009918213,
          4.71400022506714,
          4.02799987792969,
          5.07399988174438,
          4.29199981689453
         ]
        },
        {
         "marker": {
          "line": {
           "color": "rgb(255,255,255)",
           "width": 1
          },
          "opacity": 1,
          "size": 10
         },
         "mode": "markers",
         "name": "test set",
         "type": "scatter3d",
         "x": [
          1.40570604801178,
          1.10970628261566,
          1.53570663928986,
          1.15318381786346,
          1.12786877155304,
          1.87076568603516,
          1.32539355754852,
          1.48841226100922,
          1.41691517829895,
          1.40167844295502,
          1.28455626964569,
          1.03522527217865,
          1.19827437400818,
          0.995538592338562,
          1.07498753070831,
          0.730573117733002,
          0.479820191860199,
          1.00726580619812,
          0.989701807498932,
          1.1982102394104,
          0.339233845472336,
          0.792221248149872,
          0.808964252471924,
          0.950612664222717,
          0.601765096187592,
          0.667224824428558,
          0.858428180217743,
          1.12209415435791,
          0.305808693170547,
          0.305444717407227,
          0.777153134346008
         ],
         "y": [
          0.614062130451202,
          0.580131649971008,
          0.573110342025757,
          0.412730008363724,
          0.580200731754303,
          0.604130983352661,
          0.295817464590073,
          0.536746919155121,
          0.505625545978546,
          0.257921665906906,
          0.437454283237457,
          0.450002878904343,
          0.300740599632263,
          0.443323463201523,
          0.288515985012054,
          0.348079860210419,
          0.440305948257446,
          0.289680689573288,
          0.282110154628754,
          0.312328577041626,
          0.408842742443085,
          0.469987004995346,
          0.435025870800018,
          0.309410035610199,
          0.633375823497772,
          0.423026293516159,
          0,
          0.505196332931519,
          0.189196765422821,
          0.38042613863945,
          0.0815394446253777
         ],
         "z": [
          7.31400012969971,
          7.0789999961853,
          6.97700023651123,
          6.57800006866455,
          6.42399978637695,
          6.375,
          6.09800004959106,
          6.08699989318848,
          5.92000007629395,
          5.83799982070923,
          5.81899976730347,
          5.71500015258789,
          5.5,
          5.26200008392334,
          5.22499990463257,
          5.18100023269653,
          4.96199989318848,
          4.80499982833862,
          4.7350001335144,
          4.46500015258789,
          4.46000003814697,
          4.31500005722046,
          4.29099988937378,
          4.28599977493286,
          4.16800022125244,
          4.11999988555908,
          3.79500007629395,
          3.76600003242493,
          3.64400005340576,
          3.49499988555908,
          3.46199989318848
         ]
        }
       ],
       "layout": {
        "margin": {
         "b": 0,
         "l": 0,
         "r": 0,
         "t": 0
        },
        "scene": {
         "xaxis": {
          "title": {
           "text": "Economy..GDP.per.Capita."
          }
         },
         "yaxis": {
          "title": {
           "text": "Freedom"
          }
         },
         "zaxis": {
          "title": {
           "text": "Happiness.Score"
          }
         }
        },
        "template": {
         "data": {
          "bar": [
           {
            "error_x": {
             "color": "#2a3f5f"
            },
            "error_y": {
             "color": "#2a3f5f"
            },
            "marker": {
             "line": {
              "color": "#E5ECF6",
              "width": 0.5
             },
             "pattern": {
              "fillmode": "overlay",
              "size": 10,
              "solidity": 0.2
             }
            },
            "type": "bar"
           }
          ],
          "barpolar": [
           {
            "marker": {
             "line": {
              "color": "#E5ECF6",
              "width": 0.5
             },
             "pattern": {
              "fillmode": "overlay",
              "size": 10,
              "solidity": 0.2
             }
            },
            "type": "barpolar"
           }
          ],
          "carpet": [
           {
            "aaxis": {
             "endlinecolor": "#2a3f5f",
             "gridcolor": "white",
             "linecolor": "white",
             "minorgridcolor": "white",
             "startlinecolor": "#2a3f5f"
            },
            "baxis": {
             "endlinecolor": "#2a3f5f",
             "gridcolor": "white",
             "linecolor": "white",
             "minorgridcolor": "white",
             "startlinecolor": "#2a3f5f"
            },
            "type": "carpet"
           }
          ],
          "choropleth": [
           {
            "colorbar": {
             "outlinewidth": 0,
             "ticks": ""
            },
            "type": "choropleth"
           }
          ],
          "contour": [
           {
            "colorbar": {
             "outlinewidth": 0,
             "ticks": ""
            },
            "colorscale": [
             [
              0,
              "#0d0887"
             ],
             [
              0.1111111111111111,
              "#46039f"
             ],
             [
              0.2222222222222222,
              "#7201a8"
             ],
             [
              0.3333333333333333,
              "#9c179e"
             ],
             [
              0.4444444444444444,
              "#bd3786"
             ],
             [
              0.5555555555555556,
              "#d8576b"
             ],
             [
              0.6666666666666666,
              "#ed7953"
             ],
             [
              0.7777777777777778,
              "#fb9f3a"
             ],
             [
              0.8888888888888888,
              "#fdca26"
             ],
             [
              1,
              "#f0f921"
             ]
            ],
            "type": "contour"
           }
          ],
          "contourcarpet": [
           {
            "colorbar": {
             "outlinewidth": 0,
             "ticks": ""
            },
            "type": "contourcarpet"
           }
          ],
          "heatmap": [
           {
            "colorbar": {
             "outlinewidth": 0,
             "ticks": ""
            },
            "colorscale": [
             [
              0,
              "#0d0887"
             ],
             [
              0.1111111111111111,
              "#46039f"
             ],
             [
              0.2222222222222222,
              "#7201a8"
             ],
             [
              0.3333333333333333,
              "#9c179e"
             ],
             [
              0.4444444444444444,
              "#bd3786"
             ],
             [
              0.5555555555555556,
              "#d8576b"
             ],
             [
              0.6666666666666666,
              "#ed7953"
             ],
             [
              0.7777777777777778,
              "#fb9f3a"
             ],
             [
              0.8888888888888888,
              "#fdca26"
             ],
             [
              1,
              "#f0f921"
             ]
            ],
            "type": "heatmap"
           }
          ],
          "heatmapgl": [
           {
            "colorbar": {
             "outlinewidth": 0,
             "ticks": ""
            },
            "colorscale": [
             [
              0,
              "#0d0887"
             ],
             [
              0.1111111111111111,
              "#46039f"
             ],
             [
              0.2222222222222222,
              "#7201a8"
             ],
             [
              0.3333333333333333,
              "#9c179e"
             ],
             [
              0.4444444444444444,
              "#bd3786"
             ],
             [
              0.5555555555555556,
              "#d8576b"
             ],
             [
              0.6666666666666666,
              "#ed7953"
             ],
             [
              0.7777777777777778,
              "#fb9f3a"
             ],
             [
              0.8888888888888888,
              "#fdca26"
             ],
             [
              1,
              "#f0f921"
             ]
            ],
            "type": "heatmapgl"
           }
          ],
          "histogram": [
           {
            "marker": {
             "pattern": {
              "fillmode": "overlay",
              "size": 10,
              "solidity": 0.2
             }
            },
            "type": "histogram"
           }
          ],
          "histogram2d": [
           {
            "colorbar": {
             "outlinewidth": 0,
             "ticks": ""
            },
            "colorscale": [
             [
              0,
              "#0d0887"
             ],
             [
              0.1111111111111111,
              "#46039f"
             ],
             [
              0.2222222222222222,
              "#7201a8"
             ],
             [
              0.3333333333333333,
              "#9c179e"
             ],
             [
              0.4444444444444444,
              "#bd3786"
             ],
             [
              0.5555555555555556,
              "#d8576b"
             ],
             [
              0.6666666666666666,
              "#ed7953"
             ],
             [
              0.7777777777777778,
              "#fb9f3a"
             ],
             [
              0.8888888888888888,
              "#fdca26"
             ],
             [
              1,
              "#f0f921"
             ]
            ],
            "type": "histogram2d"
           }
          ],
          "histogram2dcontour": [
           {
            "colorbar": {
             "outlinewidth": 0,
             "ticks": ""
            },
            "colorscale": [
             [
              0,
              "#0d0887"
             ],
             [
              0.1111111111111111,
              "#46039f"
             ],
             [
              0.2222222222222222,
              "#7201a8"
             ],
             [
              0.3333333333333333,
              "#9c179e"
             ],
             [
              0.4444444444444444,
              "#bd3786"
             ],
             [
              0.5555555555555556,
              "#d8576b"
             ],
             [
              0.6666666666666666,
              "#ed7953"
             ],
             [
              0.7777777777777778,
              "#fb9f3a"
             ],
             [
              0.8888888888888888,
              "#fdca26"
             ],
             [
              1,
              "#f0f921"
             ]
            ],
            "type": "histogram2dcontour"
           }
          ],
          "mesh3d": [
           {
            "colorbar": {
             "outlinewidth": 0,
             "ticks": ""
            },
            "type": "mesh3d"
           }
          ],
          "parcoords": [
           {
            "line": {
             "colorbar": {
              "outlinewidth": 0,
              "ticks": ""
             }
            },
            "type": "parcoords"
           }
          ],
          "pie": [
           {
            "automargin": true,
            "type": "pie"
           }
          ],
          "scatter": [
           {
            "fillpattern": {
             "fillmode": "overlay",
             "size": 10,
             "solidity": 0.2
            },
            "type": "scatter"
           }
          ],
          "scatter3d": [
           {
            "line": {
             "colorbar": {
              "outlinewidth": 0,
              "ticks": ""
             }
            },
            "marker": {
             "colorbar": {
              "outlinewidth": 0,
              "ticks": ""
             }
            },
            "type": "scatter3d"
           }
          ],
          "scattercarpet": [
           {
            "marker": {
             "colorbar": {
              "outlinewidth": 0,
              "ticks": ""
             }
            },
            "type": "scattercarpet"
           }
          ],
          "scattergeo": [
           {
            "marker": {
             "colorbar": {
              "outlinewidth": 0,
              "ticks": ""
             }
            },
            "type": "scattergeo"
           }
          ],
          "scattergl": [
           {
            "marker": {
             "colorbar": {
              "outlinewidth": 0,
              "ticks": ""
             }
            },
            "type": "scattergl"
           }
          ],
          "scattermapbox": [
           {
            "marker": {
             "colorbar": {
              "outlinewidth": 0,
              "ticks": ""
             }
            },
            "type": "scattermapbox"
           }
          ],
          "scatterpolar": [
           {
            "marker": {
             "colorbar": {
              "outlinewidth": 0,
              "ticks": ""
             }
            },
            "type": "scatterpolar"
           }
          ],
          "scatterpolargl": [
           {
            "marker": {
             "colorbar": {
              "outlinewidth": 0,
              "ticks": ""
             }
            },
            "type": "scatterpolargl"
           }
          ],
          "scatterternary": [
           {
            "marker": {
             "colorbar": {
              "outlinewidth": 0,
              "ticks": ""
             }
            },
            "type": "scatterternary"
           }
          ],
          "surface": [
           {
            "colorbar": {
             "outlinewidth": 0,
             "ticks": ""
            },
            "colorscale": [
             [
              0,
              "#0d0887"
             ],
             [
              0.1111111111111111,
              "#46039f"
             ],
             [
              0.2222222222222222,
              "#7201a8"
             ],
             [
              0.3333333333333333,
              "#9c179e"
             ],
             [
              0.4444444444444444,
              "#bd3786"
             ],
             [
              0.5555555555555556,
              "#d8576b"
             ],
             [
              0.6666666666666666,
              "#ed7953"
             ],
             [
              0.7777777777777778,
              "#fb9f3a"
             ],
             [
              0.8888888888888888,
              "#fdca26"
             ],
             [
              1,
              "#f0f921"
             ]
            ],
            "type": "surface"
           }
          ],
          "table": [
           {
            "cells": {
             "fill": {
              "color": "#EBF0F8"
             },
             "line": {
              "color": "white"
             }
            },
            "header": {
             "fill": {
              "color": "#C8D4E3"
             },
             "line": {
              "color": "white"
             }
            },
            "type": "table"
           }
          ]
         },
         "layout": {
          "annotationdefaults": {
           "arrowcolor": "#2a3f5f",
           "arrowhead": 0,
           "arrowwidth": 1
          },
          "autotypenumbers": "strict",
          "coloraxis": {
           "colorbar": {
            "outlinewidth": 0,
            "ticks": ""
           }
          },
          "colorscale": {
           "diverging": [
            [
             0,
             "#8e0152"
            ],
            [
             0.1,
             "#c51b7d"
            ],
            [
             0.2,
             "#de77ae"
            ],
            [
             0.3,
             "#f1b6da"
            ],
            [
             0.4,
             "#fde0ef"
            ],
            [
             0.5,
             "#f7f7f7"
            ],
            [
             0.6,
             "#e6f5d0"
            ],
            [
             0.7,
             "#b8e186"
            ],
            [
             0.8,
             "#7fbc41"
            ],
            [
             0.9,
             "#4d9221"
            ],
            [
             1,
             "#276419"
            ]
           ],
           "sequential": [
            [
             0,
             "#0d0887"
            ],
            [
             0.1111111111111111,
             "#46039f"
            ],
            [
             0.2222222222222222,
             "#7201a8"
            ],
            [
             0.3333333333333333,
             "#9c179e"
            ],
            [
             0.4444444444444444,
             "#bd3786"
            ],
            [
             0.5555555555555556,
             "#d8576b"
            ],
            [
             0.6666666666666666,
             "#ed7953"
            ],
            [
             0.7777777777777778,
             "#fb9f3a"
            ],
            [
             0.8888888888888888,
             "#fdca26"
            ],
            [
             1,
             "#f0f921"
            ]
           ],
           "sequentialminus": [
            [
             0,
             "#0d0887"
            ],
            [
             0.1111111111111111,
             "#46039f"
            ],
            [
             0.2222222222222222,
             "#7201a8"
            ],
            [
             0.3333333333333333,
             "#9c179e"
            ],
            [
             0.4444444444444444,
             "#bd3786"
            ],
            [
             0.5555555555555556,
             "#d8576b"
            ],
            [
             0.6666666666666666,
             "#ed7953"
            ],
            [
             0.7777777777777778,
             "#fb9f3a"
            ],
            [
             0.8888888888888888,
             "#fdca26"
            ],
            [
             1,
             "#f0f921"
            ]
           ]
          },
          "colorway": [
           "#636efa",
           "#EF553B",
           "#00cc96",
           "#ab63fa",
           "#FFA15A",
           "#19d3f3",
           "#FF6692",
           "#B6E880",
           "#FF97FF",
           "#FECB52"
          ],
          "font": {
           "color": "#2a3f5f"
          },
          "geo": {
           "bgcolor": "white",
           "lakecolor": "white",
           "landcolor": "#E5ECF6",
           "showlakes": true,
           "showland": true,
           "subunitcolor": "white"
          },
          "hoverlabel": {
           "align": "left"
          },
          "hovermode": "closest",
          "mapbox": {
           "style": "light"
          },
          "paper_bgcolor": "white",
          "plot_bgcolor": "#E5ECF6",
          "polar": {
           "angularaxis": {
            "gridcolor": "white",
            "linecolor": "white",
            "ticks": ""
           },
           "bgcolor": "#E5ECF6",
           "radialaxis": {
            "gridcolor": "white",
            "linecolor": "white",
            "ticks": ""
           }
          },
          "scene": {
           "xaxis": {
            "backgroundcolor": "#E5ECF6",
            "gridcolor": "white",
            "gridwidth": 2,
            "linecolor": "white",
            "showbackground": true,
            "ticks": "",
            "zerolinecolor": "white"
           },
           "yaxis": {
            "backgroundcolor": "#E5ECF6",
            "gridcolor": "white",
            "gridwidth": 2,
            "linecolor": "white",
            "showbackground": true,
            "ticks": "",
            "zerolinecolor": "white"
           },
           "zaxis": {
            "backgroundcolor": "#E5ECF6",
            "gridcolor": "white",
            "gridwidth": 2,
            "linecolor": "white",
            "showbackground": true,
            "ticks": "",
            "zerolinecolor": "white"
           }
          },
          "shapedefaults": {
           "line": {
            "color": "#2a3f5f"
           }
          },
          "ternary": {
           "aaxis": {
            "gridcolor": "white",
            "linecolor": "white",
            "ticks": ""
           },
           "baxis": {
            "gridcolor": "white",
            "linecolor": "white",
            "ticks": ""
           },
           "bgcolor": "#E5ECF6",
           "caxis": {
            "gridcolor": "white",
            "linecolor": "white",
            "ticks": ""
           }
          },
          "title": {
           "x": 0.05
          },
          "xaxis": {
           "automargin": true,
           "gridcolor": "white",
           "linecolor": "white",
           "ticks": "",
           "title": {
            "standoff": 15
           },
           "zerolinecolor": "white",
           "zerolinewidth": 2
          },
          "yaxis": {
           "automargin": true,
           "gridcolor": "white",
           "linecolor": "white",
           "ticks": "",
           "title": {
            "standoff": 15
           },
           "zerolinecolor": "white",
           "zerolinewidth": 2
          }
         }
        },
        "title": {
         "text": "Date Sets"
        }
       }
      }
     },
     "metadata": {},
     "output_type": "display_data"
    }
   ],
   "source": [
    "# plotly configure\n",
    "mode = \"markers\"\n",
    "marker = {\n",
    "    'size':10,\n",
    "    'opacity':1,\n",
    "    'line': {\n",
    "        'color': 'rgb(255,255,255)',\n",
    "        'width':1\n",
    "    }\n",
    "}\n",
    "\n",
    "x_train_ = x_train[:,0]\n",
    "y_train_ = x_train[:,1]\n",
    "z_train_ = y_train[:,0]\n",
    "name_train_ = \"training set\"\n",
    "\n",
    "plot_training_trace = go.Scatter3d(\n",
    "    x=x_train_,\n",
    "    y=y_train_,\n",
    "    z=z_train_,\n",
    "    name=name_train_,\n",
    "    mode=mode,\n",
    "    marker=marker\n",
    ")\n",
    "\n",
    "x_test_ = x_test[:,0]\n",
    "y_test_ = x_test[:,1]\n",
    "z_test_ = y_test[:,0]\n",
    "name_test_ = \"test set\"\n",
    "plot_test_trace = go.Scatter3d(\n",
    "    x=x_test_,\n",
    "    y=y_test_,\n",
    "    z=z_test_,\n",
    "    name=name_test_,\n",
    "    mode=mode,\n",
    "    marker=marker\n",
    ")\n",
    "\n",
    "\n",
    "plot_layout = go.Layout(\n",
    "    title='Date Sets',\n",
    "    scene={\n",
    "        'xaxis': {'title': input_param_name_1},\n",
    "        'yaxis': {'title': input_param_name_2},\n",
    "        'zaxis': {'title': output_param_name} \n",
    "    },\n",
    "    margin={'l': 0, 'r': 0, 'b': 0, 't': 0}\n",
    ")\n",
    "\n",
    "plot_data = [plot_training_trace, plot_test_trace]\n",
    "plot_figure = go.Figure(data=plot_data, layout=plot_layout)\n",
    "plotly.offline.iplot(plot_figure)"
   ]
  },
  {
   "cell_type": "code",
   "execution_count": 44,
   "metadata": {},
   "outputs": [
    {
     "data": {
      "image/png": "[encoded data removed]",
      "text/plain": [
       "<Figure size 432x288 with 1 Axes>"
      ]
     },
     "metadata": {
      "needs_background": "light"
     },
     "output_type": "display_data"
    }
   ],
   "source": [
    "lr = LinearRegression()\n",
    "lr.fit(x_train, y_train, alpha = 0.01, num_iters=500)\n",
    "plt.plot(range(len(lr.cost_hist)), lr.cost_hist)\n",
    "plt.xlabel('Iterations')\n",
    "plt.ylabel('Cost')\n",
    "plt.title('Gradient Descent Progress')\n",
    "plt.show()"
   ]
  },
  {
   "cell_type": "code",
   "execution_count": 57,
   "metadata": {},
   "outputs": [],
   "source": [
    "# 绘制决策边界\n",
    "predictions_num = 10\n",
    "x_min = x_train[:, 0].min();\n",
    "x_max = x_train[:, 0].max();\n",
    "y_min = x_train[:, 1].min();\n",
    "y_max = x_train[:, 1].max();\n",
    "\n",
    "x_axis = np.linspace(x_min, x_max, predictions_num)\n",
    "y_axis = np.linspace(y_min, y_max, predictions_num)\n",
    "\n",
    "x_y_mesh = np.meshgrid(x_axis, y_axis) # type -> list\n",
    "x_predictions = x_y_mesh[0].flatten()\n",
    "y_predictions = x_y_mesh[1].flatten()\n",
    "\n",
    "features = np.array([x_predictions, y_predictions]).T\n",
    "# features\n",
    "z_predictions = lr.predict(features).flatten()  # 预测值是二维的，转为一维\n",
    "# z_predictions"
   ]
  },
  {
   "cell_type": "code",
   "execution_count": 58,
   "metadata": {},
   "outputs": [
    {
     "data": {
      "application/vnd.plotly.v1+json": {
       "config": {
        "linkText": "Export to plot.ly",
        "plotlyServerURL": "https://plot.ly",
        "showLink": false
       },
       "data": [
        {
         "marker": {
          "line": {
           "color": "rgb(255,255,255)",
           "width": 1
          },
          "opacity": 1,
          "size": 10
         },
         "mode": "markers",
         "name": "training set",
         "type": "scatter3d",
         "x": [
          0.381430715322495,
          1.3151752948761,
          1.34327983856201,
          1.55167484283447,
          1.09186446666718,
          0.72688353061676,
          0.85769921541214,
          1.35268235206604,
          0.728870630264282,
          1.15687310695648,
          0.716249227523804,
          1.05469870567322,
          1.22255623340607,
          0.964434325695038,
          0.560479462146759,
          0.65951669216156,
          1.06931757926941,
          0.586682975292206,
          0.900596737861633,
          0.524713635444641,
          1.13077676296234,
          0.431085407733917,
          0.596220076084137,
          0.636406779289246,
          1.39506661891937,
          1.21768391132355,
          0.119041793048382,
          1.49438726902008,
          0.244549930095673,
          0.234305649995804,
          1.23374843597412,
          1.29121541976929,
          1.2860119342804,
          1.35593807697296,
          1.47920441627502,
          0.885416388511658,
          0.872001945972443,
          0,
          0.878114581108093,
          1.10180306434631,
          0.438012987375259,
          0.603048920631409,
          0.367110550403595,
          1.48792338371277,
          1.46378076076508,
          0.783756256103516,
          1.480633020401,
          1.25278460979462,
          1.48709726333618,
          1.36135590076447,
          1.29178786277771,
          1.43092346191406,
          0.091622568666935,
          0.932537317276001,
          1.15360176563263,
          0.996192753314972,
          0.925579309463501,
          1.61646318435669,
          1.00985014438629,
          0.36842092871666,
          1.48238301277161,
          0.375846534967422,
          1.28177809715271,
          1.12843120098114,
          1.10271048545837,
          1.43362653255463,
          0.39724862575531,
          0.951484382152557,
          0.0226431842893362,
          1.10735321044922,
          1.21755969524384,
          1.484414935112,
          1.54625928401947,
          1.31458234786987,
          1.06457793712616,
          0.511135876178741,
          1.38439786434174,
          0.479309022426605,
          0.3502277135849,
          0.89465194940567,
          0.476180493831635,
          0.368610262870789,
          1.37538242340088,
          0.982409417629242,
          1.56497955322266,
          1.62634336948395,
          1.69227766990662,
          0.564305365085602,
          1.08116579055786,
          1.44163393974304,
          1.18529546260834,
          0.0921023488044739,
          1.3412059545517,
          1.3469113111496,
          1.63295245170593,
          1.53062355518341,
          1.28948748111725,
          1.00082039833069,
          1.07937383651733,
          1.02723586559296,
          0.991012394428253,
          1.44357192516327,
          0.833756566047668,
          0.368745893239975,
          1.32087934017181,
          0.521021246910095,
          1.26074862480164,
          1.12112903594971,
          0.591683447360992,
          0.909784495830536,
          0.907975316047668,
          1.07062232494354,
          1.18939554691315,
          1.15655755996704,
          0.233442038297653,
          0.401477217674255,
          1.50394463539124,
          0.786441087722778,
          1.74194359779358,
          0.737299203872681,
          1.1614590883255,
          0.161925330758095,
          0.788547575473785,
          0.648457288742065
         ],
         "y": [
          0.443185955286026,
          0.498465299606323,
          0.588767051696777,
          0.490968644618988,
          0.233335807919502,
          0.23521526157856,
          0.585214674472809,
          0.490946173667908,
          0.240729048848152,
          0.249322608113289,
          0.25471106171608,
          0.479246735572815,
          0.255772292613983,
          0.520303547382355,
          0.452763766050339,
          0.0149958552792668,
          0.208715528249741,
          0.478356659412384,
          0.198303267359734,
          0.471566706895828,
          0.41827192902565,
          0.425962775945663,
          0.454943388700485,
          0.461603492498398,
          0.256450712680817,
          0.457003742456436,
          0.332881182432175,
          0.612924098968506,
          0.348587512969971,
          0.480791091918945,
          0.550026834011078,
          0.402264982461929,
          0.175863519310951,
          0.355111539363861,
          0.611100912094116,
          0.501537680625916,
          0.531310617923737,
          0.270842045545578,
          0.408158332109451,
          0.465733230113983,
          0.16234202682972,
          0.447706192731857,
          0.514492034912109,
          0.562511384487152,
          0.539770722389221,
          0.394952565431595,
          0.627162635326385,
          0.376895278692245,
          0.567766189575195,
          0.518630743026733,
          0.520342111587524,
          0.470222115516663,
          0.0599007532000542,
          0.473507791757584,
          0.398155838251114,
          0.381498634815216,
          0.474307239055634,
          0.635422587394714,
          0.561213254928589,
          0.318697690963745,
          0.626006722450256,
          0.336384207010269,
          0.373783111572266,
          0.153997123241425,
          0.288555532693863,
          0.361466586589813,
          0.147062435746193,
          0.260287940502167,
          0.602126955986023,
          0.437453746795654,
          0.57939225435257,
          0.601607382297516,
          0.505740523338318,
          0.234231784939766,
          0.325905978679657,
          0.390017777681351,
          0.408781230449677,
          0.377922266721725,
          0.324367851018906,
          0.122974775731564,
          0.306613743305206,
          0.0303698573261499,
          0.405988603830338,
          0.204403176903725,
          0.620070576667786,
          0.60834527015686,
          0.549840569496155,
          0.430388748645782,
          0.472787708044052,
          0.508190035820007,
          0.494519203901291,
          0.235961347818375,
          0.572575807571411,
          0.471203625202179,
          0.496337592601776,
          0.449750572443008,
          0.0957312509417534,
          0.4551981985569,
          0.55258983373642,
          0.394143968820572,
          0.418421149253845,
          0.617950856685638,
          0.558732926845551,
          0.581843852996826,
          0.479131430387497,
          0.390661299228668,
          0.325707912445068,
          0.194989055395126,
          0.249463722109795,
          0.432452529668808,
          0.547509372234344,
          0.477487415075302,
          0.491247326135635,
          0.295400261878967,
          0.466914653778076,
          0.106179520487785,
          0.585384488105774,
          0.658248662948608,
          0.59662789106369,
          0.447551846504211,
          0.289231717586517,
          0.36365869641304,
          0.571055591106415,
          0.0960980430245399
         ],
         "z": [
          4.08099985122681,
          5.19500017166138,
          6.52699995040894,
          5.47200012207031,
          5.87200021743774,
          5.26900005340576,
          5.42999982833862,
          6.60900020599365,
          5.83799982070923,
          4.69199991226196,
          4.77500009536743,
          4.8289999961853,
          5.29300022125244,
          4.57399988174438,
          4.55299997329712,
          4.13899993896484,
          5.39499998092651,
          4.60799980163574,
          4.37599992752075,
          5.04099988937378,
          5.82200002670288,
          3.65700006484985,
          5.00400018692017,
          4.51399993896484,
          5.96400022506714,
          5.82499980926514,
          3.53299999237061,
          7.28399991989136,
          3.50699996948242,
          4.55000019073486,
          6.4520001411438,
          6.08400011062622,
          5.32399988174438,
          5.62099981307983,
          7.31599998474121,
          5.01100015640259,
          6.4539999961853,
          2.69300007820129,
          5.2350001335144,
          5.52500009536743,
          3.93600010871887,
          4.17999982833862,
          4.54500007629395,
          6.95100021362305,
          6.89099979400635,
          5.07399988174438,
          7.50400018692017,
          6.65199995040894,
          7.00600004196167,
          6.16800022125244,
          5.97300004959106,
          6.44199991226196,
          2.90499997138977,
          5.49300003051758,
          5.23400020599365,
          4.64400005340576,
          5.31099987030029,
          7.53700017929077,
          4.44000005722046,
          4.70900011062622,
          7.52199983596802,
          3.875,
          5.96299982070923,
          5.25,
          4.49700021743774,
          6.42199993133545,
          3.59100008010864,
          5.27899980545044,
          5.15100002288818,
          6.63500022888184,
          6.4539999961853,
          7.28399991989136,
          6.99300003051758,
          5.90199995040894,
          5.17500019073486,
          3.34899997711182,
          6.40299987792969,
          4.53499984741211,
          4.03200006484985,
          4.09600019454956,
          4.19000005722046,
          3.6029999256134,
          7.21299982070923,
          5.18200016021729,
          7.49399995803833,
          6.64799976348877,
          6.57200002670288,
          4.69500017166138,
          5.27299976348877,
          6.71400022506714,
          6.59899997711182,
          4.28000020980835,
          5.75799989700317,
          5.80999994277954,
          6.10500001907349,
          6.3439998626709,
          5.22700023651123,
          6.00799989700317,
          5.23000001907349,
          4.95499992370605,
          5.33599996566772,
          7.4689998626709,
          5.82299995422363,
          3.47099995613098,
          5.61100006103516,
          3.80800008773804,
          5.84999990463257,
          5.23699998855591,
          3.59299993515015,
          6.00299978256226,
          5.95599985122681,
          6.35699987411499,
          5.62900018692017,
          5.56899976730347,
          3.97000002861023,
          3.79399991035461,
          7.3769998550415,
          5.97100019454956,
          6.86299991607666,
          6.07100009918213,
          4.71400022506714,
          4.02799987792969,
          5.07399988174438,
          4.29199981689453
         ]
        },
        {
         "marker": {
          "line": {
           "color": "rgb(255,255,255)",
           "width": 1
          },
          "opacity": 1,
          "size": 10
         },
         "mode": "markers",
         "name": "test set",
         "type": "scatter3d",
         "x": [
          1.40570604801178,
          1.10970628261566,
          1.53570663928986,
          1.15318381786346,
          1.12786877155304,
          1.87076568603516,
          1.32539355754852,
          1.48841226100922,
          1.41691517829895,
          1.40167844295502,
          1.28455626964569,
          1.03522527217865,
          1.19827437400818,
          0.995538592338562,
          1.07498753070831,
          0.730573117733002,
          0.479820191860199,
          1.00726580619812,
          0.989701807498932,
          1.1982102394104,
          0.339233845472336,
          0.792221248149872,
          0.808964252471924,
          0.950612664222717,
          0.601765096187592,
          0.667224824428558,
          0.858428180217743,
          1.12209415435791,
          0.305808693170547,
          0.305444717407227,
          0.777153134346008
         ],
         "y": [
          0.614062130451202,
          0.580131649971008,
          0.573110342025757,
          0.412730008363724,
          0.580200731754303,
          0.604130983352661,
          0.295817464590073,
          0.536746919155121,
          0.505625545978546,
          0.257921665906906,
          0.437454283237457,
          0.450002878904343,
          0.300740599632263,
          0.443323463201523,
          0.288515985012054,
          0.348079860210419,
          0.440305948257446,
          0.289680689573288,
          0.282110154628754,
          0.312328577041626,
          0.408842742443085,
          0.469987004995346,
          0.435025870800018,
          0.309410035610199,
          0.633375823497772,
          0.423026293516159,
          0,
          0.505196332931519,
          0.189196765422821,
          0.38042613863945,
          0.0815394446253777
         ],
         "z": [
          7.31400012969971,
          7.0789999961853,
          6.97700023651123,
          6.57800006866455,
          6.42399978637695,
          6.375,
          6.09800004959106,
          6.08699989318848,
          5.92000007629395,
          5.83799982070923,
          5.81899976730347,
          5.71500015258789,
          5.5,
          5.26200008392334,
          5.22499990463257,
          5.18100023269653,
          4.96199989318848,
          4.80499982833862,
          4.7350001335144,
          4.46500015258789,
          4.46000003814697,
          4.31500005722046,
          4.29099988937378,
          4.28599977493286,
          4.16800022125244,
          4.11999988555908,
          3.79500007629395,
          3.76600003242493,
          3.64400005340576,
          3.49499988555908,
          3.46199989318848
         ]
        },
        {
         "marker": {
          "size": 1
         },
         "mode": "markers",
         "name": "predictions plane",
         "opacity": 0.8,
         "surfaceaxis": 2,
         "type": "scatter3d",
         "x": [
          0,
          0.1935492886437311,
          0.3870985772874622,
          0.5806478659311933,
          0.7741971545749244,
          0.9677464432186555,
          1.1612957318623867,
          1.3548450205061178,
          1.5483943091498489,
          1.74194359779358,
          0,
          0.1935492886437311,
          0.3870985772874622,
          0.5806478659311933,
          0.7741971545749244,
          0.9677464432186555,
          1.1612957318623867,
          1.3548450205061178,
          1.5483943091498489,
          1.74194359779358,
          0,
          0.1935492886437311,
          0.3870985772874622,
          0.5806478659311933,
          0.7741971545749244,
          0.9677464432186555,
          1.1612957318623867,
          1.3548450205061178,
          1.5483943091498489,
          1.74194359779358,
          0,
          0.1935492886437311,
          0.3870985772874622,
          0.5806478659311933,
          0.7741971545749244,
          0.9677464432186555,
          1.1612957318623867,
          1.3548450205061178,
          1.5483943091498489,
          1.74194359779358,
          0,
          0.1935492886437311,
          0.3870985772874622,
          0.5806478659311933,
          0.7741971545749244,
          0.9677464432186555,
          1.1612957318623867,
          1.3548450205061178,
          1.5483943091498489,
          1.74194359779358,
          0,
          0.1935492886437311,
          0.3870985772874622,
          0.5806478659311933,
          0.7741971545749244,
          0.9677464432186555,
          1.1612957318623867,
          1.3548450205061178,
          1.5483943091498489,
          1.74194359779358,
          0,
          0.1935492886437311,
          0.3870985772874622,
          0.5806478659311933,
          0.7741971545749244,
          0.9677464432186555,
          1.1612957318623867,
          1.3548450205061178,
          1.5483943091498489,
          1.74194359779358,
          0,
          0.1935492886437311,
          0.3870985772874622,
          0.5806478659311933,
          0.7741971545749244,
          0.9677464432186555,
          1.1612957318623867,
          1.3548450205061178,
          1.5483943091498489,
          1.74194359779358,
          0,
          0.1935492886437311,
          0.3870985772874622,
          0.5806478659311933,
          0.7741971545749244,
          0.9677464432186555,
          1.1612957318623867,
          1.3548450205061178,
          1.5483943091498489,
          1.74194359779358,
          0,
          0.1935492886437311,
          0.3870985772874622,
          0.5806478659311933,
          0.7741971545749244,
          0.9677464432186555,
          1.1612957318623867,
          1.3548450205061178,
          1.5483943091498489,
          1.74194359779358
         ],
         "y": [
          0.0149958552792668,
          0.0149958552792668,
          0.0149958552792668,
          0.0149958552792668,
          0.0149958552792668,
          0.0149958552792668,
          0.0149958552792668,
          0.0149958552792668,
          0.0149958552792668,
          0.0149958552792668,
          0.08646838946474913,
          0.08646838946474913,
          0.08646838946474913,
          0.08646838946474913,
          0.08646838946474913,
          0.08646838946474913,
          0.08646838946474913,
          0.08646838946474913,
          0.08646838946474913,
          0.08646838946474913,
          0.1579409236502315,
          0.1579409236502315,
          0.1579409236502315,
          0.1579409236502315,
          0.1579409236502315,
          0.1579409236502315,
          0.1579409236502315,
          0.1579409236502315,
          0.1579409236502315,
          0.1579409236502315,
          0.22941345783571385,
          0.22941345783571385,
          0.22941345783571385,
          0.22941345783571385,
          0.22941345783571385,
          0.22941345783571385,
          0.22941345783571385,
          0.22941345783571385,
          0.22941345783571385,
          0.22941345783571385,
          0.30088599202119615,
          0.30088599202119615,
          0.30088599202119615,
          0.30088599202119615,
          0.30088599202119615,
          0.30088599202119615,
          0.30088599202119615,
          0.30088599202119615,
          0.30088599202119615,
          0.30088599202119615,
          0.3723585262066785,
          0.3723585262066785,
          0.3723585262066785,
          0.3723585262066785,
          0.3723585262066785,
          0.3723585262066785,
          0.3723585262066785,
          0.3723585262066785,
          0.3723585262066785,
          0.3723585262066785,
          0.44383106039216086,
          0.44383106039216086,
          0.44383106039216086,
          0.44383106039216086,
          0.44383106039216086,
          0.44383106039216086,
          0.44383106039216086,
          0.44383106039216086,
          0.44383106039216086,
          0.44383106039216086,
          0.5153035945776432,
          0.5153035945776432,
          0.5153035945776432,
          0.5153035945776432,
          0.5153035945776432,
          0.5153035945776432,
          0.5153035945776432,
          0.5153035945776432,
          0.5153035945776432,
          0.5153035945776432,
          0.5867761287631256,
          0.5867761287631256,
          0.5867761287631256,
          0.5867761287631256,
          0.5867761287631256,
          0.5867761287631256,
          0.5867761287631256,
          0.5867761287631256,
          0.5867761287631256,
          0.5867761287631256,
          0.658248662948608,
          0.658248662948608,
          0.658248662948608,
          0.658248662948608,
          0.658248662948608,
          0.658248662948608,
          0.658248662948608,
          0.658248662948608,
          0.658248662948608,
          0.658248662948608
         ],
         "z": [
          3.5586537899248816,
          3.839209251149618,
          4.119764712374353,
          4.40032017359909,
          4.680875634823826,
          4.961431096048561,
          5.2419865572732975,
          5.522542018498033,
          5.803097479722769,
          6.0836529409475055,
          3.679601194006159,
          3.960156655230895,
          4.240712116455631,
          4.521267577680367,
          4.801823038905103,
          5.082378500129838,
          5.362933961354575,
          5.643489422579311,
          5.924044883804046,
          6.2046003450287825,
          3.800548598087436,
          4.081104059312172,
          4.361659520536907,
          4.642214981761644,
          4.92277044298638,
          5.203325904211115,
          5.483881365435852,
          5.764436826660587,
          6.044992287885323,
          6.32554774911006,
          3.921496002168713,
          4.202051463393449,
          4.482606924618185,
          4.763162385842921,
          5.043717847067657,
          5.324273308292392,
          5.604828769517129,
          5.885384230741865,
          6.1659396919666,
          6.446495153191337,
          4.0424434062499905,
          4.322998867474726,
          4.603554328699461,
          4.884109789924198,
          5.164665251148934,
          5.445220712373669,
          5.725776173598406,
          6.006331634823141,
          6.286887096047877,
          6.567442557272614,
          4.163390810331267,
          4.443946271556003,
          4.724501732780739,
          5.005057194005475,
          5.285612655230211,
          5.566168116454946,
          5.846723577679683,
          6.127279038904419,
          6.407834500129154,
          6.688389961353891,
          4.284338214412545,
          4.56489367563728,
          4.845449136862016,
          5.126004598086752,
          5.406560059311488,
          5.687115520536224,
          5.96767098176096,
          6.248226442985696,
          6.528781904210431,
          6.809337365435168,
          4.405285618493822,
          4.685841079718557,
          4.966396540943293,
          5.246952002168029,
          5.527507463392765,
          5.808062924617501,
          6.088618385842237,
          6.369173847066973,
          6.649729308291709,
          6.930284769516445,
          4.526233022575099,
          4.806788483799834,
          5.08734394502457,
          5.367899406249307,
          5.648454867474042,
          5.929010328698778,
          6.209565789923514,
          6.49012125114825,
          6.770676712372985,
          7.051232173597722,
          4.647180426656376,
          4.927735887881111,
          5.208291349105847,
          5.488846810330584,
          5.769402271555319,
          6.049957732780055,
          6.330513194004791,
          6.611068655229527,
          6.891624116454263,
          7.172179577678999
         ]
        }
       ],
       "layout": {
        "margin": {
         "b": 0,
         "l": 0,
         "r": 0,
         "t": 0
        },
        "scene": {
         "xaxis": {
          "title": {
           "text": "Economy..GDP.per.Capita."
          }
         },
         "yaxis": {
          "title": {
           "text": "Freedom"
          }
         },
         "zaxis": {
          "title": {
           "text": "Happiness.Score"
          }
         }
        },
        "template": {
         "data": {
          "bar": [
           {
            "error_x": {
             "color": "#2a3f5f"
            },
            "error_y": {
             "color": "#2a3f5f"
            },
            "marker": {
             "line": {
              "color": "#E5ECF6",
              "width": 0.5
             },
             "pattern": {
              "fillmode": "overlay",
              "size": 10,
              "solidity": 0.2
             }
            },
            "type": "bar"
           }
          ],
          "barpolar": [
           {
            "marker": {
             "line": {
              "color": "#E5ECF6",
              "width": 0.5
             },
             "pattern": {
              "fillmode": "overlay",
              "size": 10,
              "solidity": 0.2
             }
            },
            "type": "barpolar"
           }
          ],
          "carpet": [
           {
            "aaxis": {
             "endlinecolor": "#2a3f5f",
             "gridcolor": "white",
             "linecolor": "white",
             "minorgridcolor": "white",
             "startlinecolor": "#2a3f5f"
            },
            "baxis": {
             "endlinecolor": "#2a3f5f",
             "gridcolor": "white",
             "linecolor": "white",
             "minorgridcolor": "white",
             "startlinecolor": "#2a3f5f"
            },
            "type": "carpet"
           }
          ],
          "choropleth": [
           {
            "colorbar": {
             "outlinewidth": 0,
             "ticks": ""
            },
            "type": "choropleth"
           }
          ],
          "contour": [
           {
            "colorbar": {
             "outlinewidth": 0,
             "ticks": ""
            },
            "colorscale": [
             [
              0,
              "#0d0887"
             ],
             [
              0.1111111111111111,
              "#46039f"
             ],
             [
              0.2222222222222222,
              "#7201a8"
             ],
             [
              0.3333333333333333,
              "#9c179e"
             ],
             [
              0.4444444444444444,
              "#bd3786"
             ],
             [
              0.5555555555555556,
              "#d8576b"
             ],
             [
              0.6666666666666666,
              "#ed7953"
             ],
             [
              0.7777777777777778,
              "#fb9f3a"
             ],
             [
              0.8888888888888888,
              "#fdca26"
             ],
             [
              1,
              "#f0f921"
             ]
            ],
            "type": "contour"
           }
          ],
          "contourcarpet": [
           {
            "colorbar": {
             "outlinewidth": 0,
             "ticks": ""
            },
            "type": "contourcarpet"
           }
          ],
          "heatmap": [
           {
            "colorbar": {
             "outlinewidth": 0,
             "ticks": ""
            },
            "colorscale": [
             [
              0,
              "#0d0887"
             ],
             [
              0.1111111111111111,
              "#46039f"
             ],
             [
              0.2222222222222222,
              "#7201a8"
             ],
             [
              0.3333333333333333,
              "#9c179e"
             ],
             [
              0.4444444444444444,
              "#bd3786"
             ],
             [
              0.5555555555555556,
              "#d8576b"
             ],
             [
              0.6666666666666666,
              "#ed7953"
             ],
             [
              0.7777777777777778,
              "#fb9f3a"
             ],
             [
              0.8888888888888888,
              "#fdca26"
             ],
             [
              1,
              "#f0f921"
             ]
            ],
            "type": "heatmap"
           }
          ],
          "heatmapgl": [
           {
            "colorbar": {
             "outlinewidth": 0,
             "ticks": ""
            },
            "colorscale": [
             [
              0,
              "#0d0887"
             ],
             [
              0.1111111111111111,
              "#46039f"
             ],
             [
              0.2222222222222222,
              "#7201a8"
             ],
             [
              0.3333333333333333,
              "#9c179e"
             ],
             [
              0.4444444444444444,
              "#bd3786"
             ],
             [
              0.5555555555555556,
              "#d8576b"
             ],
             [
              0.6666666666666666,
              "#ed7953"
             ],
             [
              0.7777777777777778,
              "#fb9f3a"
             ],
             [
              0.8888888888888888,
              "#fdca26"
             ],
             [
              1,
              "#f0f921"
             ]
            ],
            "type": "heatmapgl"
           }
          ],
          "histogram": [
           {
            "marker": {
             "pattern": {
              "fillmode": "overlay",
              "size": 10,
              "solidity": 0.2
             }
            },
            "type": "histogram"
           }
          ],
          "histogram2d": [
           {
            "colorbar": {
             "outlinewidth": 0,
             "ticks": ""
            },
            "colorscale": [
             [
              0,
              "#0d0887"
             ],
             [
              0.1111111111111111,
              "#46039f"
             ],
             [
              0.2222222222222222,
              "#7201a8"
             ],
             [
              0.3333333333333333,
              "#9c179e"
             ],
             [
              0.4444444444444444,
              "#bd3786"
             ],
             [
              0.5555555555555556,
              "#d8576b"
             ],
             [
              0.6666666666666666,
              "#ed7953"
             ],
             [
              0.7777777777777778,
              "#fb9f3a"
             ],
             [
              0.8888888888888888,
              "#fdca26"
             ],
             [
              1,
              "#f0f921"
             ]
            ],
            "type": "histogram2d"
           }
          ],
          "histogram2dcontour": [
           {
            "colorbar": {
             "outlinewidth": 0,
             "ticks": ""
            },
            "colorscale": [
             [
              0,
              "#0d0887"
             ],
             [
              0.1111111111111111,
              "#46039f"
             ],
             [
              0.2222222222222222,
              "#7201a8"
             ],
             [
              0.3333333333333333,
              "#9c179e"
             ],
             [
              0.4444444444444444,
              "#bd3786"
             ],
             [
              0.5555555555555556,
              "#d8576b"
             ],
             [
              0.6666666666666666,
              "#ed7953"
             ],
             [
              0.7777777777777778,
              "#fb9f3a"
             ],
             [
              0.8888888888888888,
              "#fdca26"
             ],
             [
              1,
              "#f0f921"
             ]
            ],
            "type": "histogram2dcontour"
           }
          ],
          "mesh3d": [
           {
            "colorbar": {
             "outlinewidth": 0,
             "ticks": ""
            },
            "type": "mesh3d"
           }
          ],
          "parcoords": [
           {
            "line": {
             "colorbar": {
              "outlinewidth": 0,
              "ticks": ""
             }
            },
            "type": "parcoords"
           }
          ],
          "pie": [
           {
            "automargin": true,
            "type": "pie"
           }
          ],
          "scatter": [
           {
            "fillpattern": {
             "fillmode": "overlay",
             "size": 10,
             "solidity": 0.2
            },
            "type": "scatter"
           }
          ],
          "scatter3d": [
           {
            "line": {
             "colorbar": {
              "outlinewidth": 0,
              "ticks": ""
             }
            },
            "marker": {
             "colorbar": {
              "outlinewidth": 0,
              "ticks": ""
             }
            },
            "type": "scatter3d"
           }
          ],
          "scattercarpet": [
           {
            "marker": {
             "colorbar": {
              "outlinewidth": 0,
              "ticks": ""
             }
            },
            "type": "scattercarpet"
           }
          ],
          "scattergeo": [
           {
            "marker": {
             "colorbar": {
              "outlinewidth": 0,
              "ticks": ""
             }
            },
            "type": "scattergeo"
           }
          ],
          "scattergl": [
           {
            "marker": {
             "colorbar": {
              "outlinewidth": 0,
              "ticks": ""
             }
            },
            "type": "scattergl"
           }
          ],
          "scattermapbox": [
           {
            "marker": {
             "colorbar": {
              "outlinewidth": 0,
              "ticks": ""
             }
            },
            "type": "scattermapbox"
           }
          ],
          "scatterpolar": [
           {
            "marker": {
             "colorbar": {
              "outlinewidth": 0,
              "ticks": ""
             }
            },
            "type": "scatterpolar"
           }
          ],
          "scatterpolargl": [
           {
            "marker": {
             "colorbar": {
              "outlinewidth": 0,
              "ticks": ""
             }
            },
            "type": "scatterpolargl"
           }
          ],
          "scatterternary": [
           {
            "marker": {
             "colorbar": {
              "outlinewidth": 0,
              "ticks": ""
             }
            },
            "type": "scatterternary"
           }
          ],
          "surface": [
           {
            "colorbar": {
             "outlinewidth": 0,
             "ticks": ""
            },
            "colorscale": [
             [
              0,
              "#0d0887"
             ],
             [
              0.1111111111111111,
              "#46039f"
             ],
             [
              0.2222222222222222,
              "#7201a8"
             ],
             [
              0.3333333333333333,
              "#9c179e"
             ],
             [
              0.4444444444444444,
              "#bd3786"
             ],
             [
              0.5555555555555556,
              "#d8576b"
             ],
             [
              0.6666666666666666,
              "#ed7953"
             ],
             [
              0.7777777777777778,
              "#fb9f3a"
             ],
             [
              0.8888888888888888,
              "#fdca26"
             ],
             [
              1,
              "#f0f921"
             ]
            ],
            "type": "surface"
           }
          ],
          "table": [
           {
            "cells": {
             "fill": {
              "color": "#EBF0F8"
             },
             "line": {
              "color": "white"
             }
            },
            "header": {
             "fill": {
              "color": "#C8D4E3"
             },
             "line": {
              "color": "white"
             }
            },
            "type": "table"
           }
          ]
         },
         "layout": {
          "annotationdefaults": {
           "arrowcolor": "#2a3f5f",
           "arrowhead": 0,
           "arrowwidth": 1
          },
          "autotypenumbers": "strict",
          "coloraxis": {
           "colorbar": {
            "outlinewidth": 0,
            "ticks": ""
           }
          },
          "colorscale": {
           "diverging": [
            [
             0,
             "#8e0152"
            ],
            [
             0.1,
             "#c51b7d"
            ],
            [
             0.2,
             "#de77ae"
            ],
            [
             0.3,
             "#f1b6da"
            ],
            [
             0.4,
             "#fde0ef"
            ],
            [
             0.5,
             "#f7f7f7"
            ],
            [
             0.6,
             "#e6f5d0"
            ],
            [
             0.7,
             "#b8e186"
            ],
            [
             0.8,
             "#7fbc41"
            ],
            [
             0.9,
             "#4d9221"
            ],
            [
             1,
             "#276419"
            ]
           ],
           "sequential": [
            [
             0,
             "#0d0887"
            ],
            [
             0.1111111111111111,
             "#46039f"
            ],
            [
             0.2222222222222222,
             "#7201a8"
            ],
            [
             0.3333333333333333,
             "#9c179e"
            ],
            [
             0.4444444444444444,
             "#bd3786"
            ],
            [
             0.5555555555555556,
             "#d8576b"
            ],
            [
             0.6666666666666666,
             "#ed7953"
            ],
            [
             0.7777777777777778,
             "#fb9f3a"
            ],
            [
             0.8888888888888888,
             "#fdca26"
            ],
            [
             1,
             "#f0f921"
            ]
           ],
           "sequentialminus": [
            [
             0,
             "#0d0887"
            ],
            [
             0.1111111111111111,
             "#46039f"
            ],
            [
             0.2222222222222222,
             "#7201a8"
            ],
            [
             0.3333333333333333,
             "#9c179e"
            ],
            [
             0.4444444444444444,
             "#bd3786"
            ],
            [
             0.5555555555555556,
             "#d8576b"
            ],
            [
             0.6666666666666666,
             "#ed7953"
            ],
            [
             0.7777777777777778,
             "#fb9f3a"
            ],
            [
             0.8888888888888888,
             "#fdca26"
            ],
            [
             1,
             "#f0f921"
            ]
           ]
          },
          "colorway": [
           "#636efa",
           "#EF553B",
           "#00cc96",
           "#ab63fa",
           "#FFA15A",
           "#19d3f3",
           "#FF6692",
           "#B6E880",
           "#FF97FF",
           "#FECB52"
          ],
          "font": {
           "color": "#2a3f5f"
          },
          "geo": {
           "bgcolor": "white",
           "lakecolor": "white",
           "landcolor": "#E5ECF6",
           "showlakes": true,
           "showland": true,
           "subunitcolor": "white"
          },
          "hoverlabel": {
           "align": "left"
          },
          "hovermode": "closest",
          "mapbox": {
           "style": "light"
          },
          "paper_bgcolor": "white",
          "plot_bgcolor": "#E5ECF6",
          "polar": {
           "angularaxis": {
            "gridcolor": "white",
            "linecolor": "white",
            "ticks": ""
           },
           "bgcolor": "#E5ECF6",
           "radialaxis": {
            "gridcolor": "white",
            "linecolor": "white",
            "ticks": ""
           }
          },
          "scene": {
           "xaxis": {
            "backgroundcolor": "#E5ECF6",
            "gridcolor": "white",
            "gridwidth": 2,
            "linecolor": "white",
            "showbackground": true,
            "ticks": "",
            "zerolinecolor": "white"
           },
           "yaxis": {
            "backgroundcolor": "#E5ECF6",
            "gridcolor": "white",
            "gridwidth": 2,
            "linecolor": "white",
            "showbackground": true,
            "ticks": "",
            "zerolinecolor": "white"
           },
           "zaxis": {
            "backgroundcolor": "#E5ECF6",
            "gridcolor": "white",
            "gridwidth": 2,
            "linecolor": "white",
            "showbackground": true,
            "ticks": "",
            "zerolinecolor": "white"
           }
          },
          "shapedefaults": {
           "line": {
            "color": "#2a3f5f"
           }
          },
          "ternary": {
           "aaxis": {
            "gridcolor": "white",
            "linecolor": "white",
            "ticks": ""
           },
           "baxis": {
            "gridcolor": "white",
            "linecolor": "white",
            "ticks": ""
           },
           "bgcolor": "#E5ECF6",
           "caxis": {
            "gridcolor": "white",
            "linecolor": "white",
            "ticks": ""
           }
          },
          "title": {
           "x": 0.05
          },
          "xaxis": {
           "automargin": true,
           "gridcolor": "white",
           "linecolor": "white",
           "ticks": "",
           "title": {
            "standoff": 15
           },
           "zerolinecolor": "white",
           "zerolinewidth": 2
          },
          "yaxis": {
           "automargin": true,
           "gridcolor": "white",
           "linecolor": "white",
           "ticks": "",
           "title": {
            "standoff": 15
           },
           "zerolinecolor": "white",
           "zerolinewidth": 2
          }
         }
        },
        "title": {
         "text": "Date Sets"
        }
       }
      }
     },
     "metadata": {},
     "output_type": "display_data"
    }
   ],
   "source": [
    "name_pre_ = \"predictions plane\"\n",
    "plot_predictions_trace = go.Scatter3d(\n",
    "    x=x_predictions,\n",
    "    y=y_predictions,\n",
    "    z=z_predictions,\n",
    "    name=name_pre_,\n",
    "    mode=mode,\n",
    "    marker={'size':1,},\n",
    "    opacity=0.8,\n",
    "    surfaceaxis=2,\n",
    ")\n",
    "plot_data = [plot_training_trace, plot_test_trace, plot_predictions_trace]\n",
    "plot_figure = go.Figure(data=plot_data, layout=plot_layout)\n",
    "plotly.offline.iplot(plot_figure)"
   ]
  }
 ],
 "metadata": {
  "kernelspec": {
   "display_name": "Python 3.8.8 ('base')",
   "language": "python",
   "name": "python3"
  },
  "language_info": {
   "codemirror_mode": {
    "name": "ipython",
    "version": 3
   },
   "file_extension": ".py",
   "mimetype": "text/x-python",
   "name": "python",
   "nbconvert_exporter": "python",
   "pygments_lexer": "ipython3",
   "version": "3.8.8"
  },
  "orig_nbformat": 4,
  "vscode": {
   "interpreter": {
    "hash": "e665bd0c90333571dc6e242ea46570f71accaf8375c022a57c8259094a5d60b9"
   }
  }
 },
 "nbformat": 4,
 "nbformat_minor": 2
}
