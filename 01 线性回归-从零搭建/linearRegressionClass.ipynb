{
 "cells": [
  {
   "cell_type": "code",
   "execution_count": 1,
   "metadata": {},
   "outputs": [],
   "source": [
    "import numpy as np\n",
    "from cmath import sin\n",
    "from prepare import *"
   ]
  },
  {
   "cell_type": "code",
   "execution_count": 9,
   "metadata": {},
   "outputs": [],
   "source": [
    "class LinearRegression(object):\n",
    "    def __init__(self, data, label, polynomial_degree=0, sinusoid_degree=0, normalize=True):\n",
    "        \"\"\"\n",
    "        data是一维(单个特征)或者二维数组(单个特征，多个特征)，label是一维数组([0,1,1])者二维数组([[0],[1],[1]])\n",
    "        \"\"\"\n",
    "        # 如果 data 只有一格特征并且是一维，转换为二维\n",
    "        if data.ndim == 1:\n",
    "            data = data.reshape((-1,1))\n",
    "        \n",
    "        # 如果 label 是二维数组，转换为一维\n",
    "        if label.ndim == 2:\n",
    "            label = label.reshape((-1,))\n",
    "\n",
    "        self.data = np.copy(data)\n",
    "        self.label = np.copy(label)\n",
    "        self.polynomial_degree = polynomial_degree\n",
    "        self.sinusoid_degree = sinusoid_degree\n",
    "        self.normalize = normalize\n",
    "\n",
    "        # 初始化特征\n",
    "        # 归一化（可选）,最后加一列，polynomial or sinusoid 转换\n",
    "        self.data, self.feature_mean, self.feature_std = \\\n",
    "            prepare_for_training(self.data, self.polynomial_degree, self.sinusoid_degree, self.normalize)\n",
    "\n",
    "        # 训练数据的数据数 与 特征数\n",
    "        self.num_examples, self.num_features = self.data.shape\n",
    "\n",
    "        # 初始化 theta\n",
    "        self.theta = np.zeros((self.num_features,)) # 如果有5维特征，self.theta = [0,0,0,0,0]\n",
    "        # self.theta = np.zeros((self.data.shape[1],1)) \n",
    "\n",
    "    def train(self, alpha = 0.01, num_iters = 500):\n",
    "        \"\"\"\n",
    "        alpha: 学习率\n",
    "        num_iters: 迭代次数\n",
    "        \"\"\"\n",
    "        loss_hist = []\n",
    "        for _ in range(num_iters):\n",
    "            self.theta -= self.gradient()\n",
    "            loss_ = self.loss(self.data, self.label)\n",
    "            loss_hist.append()(loss_)\n",
    "\n",
    "        return loss_hist\n",
    "\n",
    "    \n",
    "    def loss(self, data, label):\n",
    "        \"\"\"计算loss之前data要被处理过 - normalize等\"\"\"\n",
    "        if data.ndim == 1:\n",
    "            data = data[None,:]\n",
    "        if label.ndim == 2:\n",
    "            label = label.flatten()\n",
    "        num_examples = data.shape[0]\n",
    "        return (1 / 2 * num_examples) * np.sum(label - data * self.theta)\n",
    "\n",
    "    def gradient(self):\n",
    "        grads = np.dot(self.data.T, self.label - self.hypothesis(self.data))\n",
    "        return grads\n",
    "\n",
    "    \n",
    "    def hypothesis(self, data):\n",
    "        \"\"\"\n",
    "        data: 一维或者二维\n",
    "        theta: 一维或者二维\n",
    "        如果 data 和 theta 都是二维，返回的是二维(n,1)数组，否则返回一维数组\n",
    "        \"\"\"\n",
    "        return np.dot(data,self.theta)\n",
    "        \n",
    "        \n",
    "\n"
   ]
  },
  {
   "cell_type": "code",
   "execution_count": 14,
   "metadata": {},
   "outputs": [
    {
     "data": {
      "text/plain": [
       "array([[[0, 1, 2],\n",
       "        [3, 4, 5],\n",
       "        [6, 7, 8]]])"
      ]
     },
     "execution_count": 14,
     "metadata": {},
     "output_type": "execute_result"
    }
   ],
   "source": [
    "arr1 = np.arange(9).reshape(3,3)\n",
    "arr2 = np.array([1,2,3]"
   ]
  },
  {
   "cell_type": "code",
   "execution_count": 12,
   "metadata": {},
   "outputs": [
    {
     "data": {
      "text/plain": [
       "array([ 8, 26, 44])"
      ]
     },
     "execution_count": 12,
     "metadata": {},
     "output_type": "execute_result"
    }
   ],
   "source": [
    "np.dot(arr1,arr2)"
   ]
  },
  {
   "cell_type": "code",
   "execution_count": null,
   "metadata": {},
   "outputs": [],
   "source": []
  }
 ],
 "metadata": {
  "kernelspec": {
   "display_name": "Python 3.10.0 64-bit",
   "language": "python",
   "name": "python3"
  },
  "language_info": {
   "codemirror_mode": {
    "name": "ipython",
    "version": 3
   },
   "file_extension": ".py",
   "mimetype": "text/x-python",
   "name": "python",
   "nbconvert_exporter": "python",
   "pygments_lexer": "ipython3",
   "version": "3.10.0"
  },
  "orig_nbformat": 4,
  "vscode": {
   "interpreter": {
    "hash": "52078a61cf360e1cb9de801769e3cf77056a7e6fc9ad1b4a4e5b78b8e2b4c3dc"
   }
  }
 },
 "nbformat": 4,
 "nbformat_minor": 2
}
