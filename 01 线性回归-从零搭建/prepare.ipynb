{
 "cells": [
  {
   "cell_type": "code",
   "execution_count": 2,
   "metadata": {},
   "outputs": [],
   "source": [
    "import numpy as np\n",
    "\n",
    "def normalize(features):\n",
    "    \"\"\"\n",
    "    传入的数据格式是二维数组(一维其实也行) - 比如三特征四数据\n",
    "    [[2,3,4],[1,2,3],[3,1,2],[2,3,1]]\n",
    "    \"\"\"\n",
    "    # 防止分母为0而设置的参数\n",
    "    h = 1e-10\n",
    "\n",
    "    features_normalized = np.copy(features).astype(float)\n",
    "    \n",
    "    # 均值\n",
    "    mean = np.mean(features, 0)  # # [1.75 2.25 2.5]\n",
    "    std = np.std(features, 0)\n",
    "\n",
    "    # print(mean,std)\n",
    "    # print(features_normalized - mean)\n",
    "\n",
    "    features_normalized = (features_normalized - mean) / (std+h)\n",
    "\n",
    "    return features_normalized, mean, std"
   ]
  },
  {
   "cell_type": "code",
   "execution_count": 3,
   "metadata": {},
   "outputs": [],
   "source": [
    "def generate_polynomials_one_feature(dataset, polynomial_degree, normalize_data=False):\n",
    "    \"\"\"变换方法：\n",
    "    x1, x2, x1^2, x2^2, x1*x2, x1*x2^2, etc.\n",
    "    \"\"\"\n",
    "\n",
    "    num_examples = dataset.shape[0]\n",
    "    polynomials = np.empty((num_examples,0))\n",
    "\n",
    "    for i in range(2, polynomial_degree + 1):\n",
    "        polynomial_feature = (dataset ** i)\n",
    "        polynomials = np.concatenate((polynomials, polynomial_feature), axis=1)\n",
    "\n",
    "    if normalize_data:\n",
    "        polynomials = normalize(polynomials)[0]\n",
    "\n",
    "    return polynomials\n",
    "\n",
    "\n",
    "def generate_polynomials(dataset, polynomial_degree, normalize_data=False):\n",
    "    \"\"\"\n",
    "    变换方法: x1, x2, x1^2, x2^2, x1*x2, x1*x2^2, etc.\n",
    "    polynomial_degree = 1 时 返回空\n",
    "    dataset: 单特征（一维或者多维数组）或者多特征（二维数组）\n",
    "    \"\"\"\n",
    "\n",
    "    # 如果是一维数组，转换为二维\n",
    "    if dataset.ndim == 1:\n",
    "        dataset = dataset.reshape(-1,1)\n",
    "\n",
    "    # 获取样本数\n",
    "    num_examples = dataset.shape[0]\n",
    "        \n",
    "    if dataset.shape[1] == 1:\n",
    "        return generate_polynomials_one_feature(dataset, polynomial_degree, normalize_data)\n",
    "    \n",
    "    features_split = np.array_split(dataset, 2, axis=1)\n",
    "    dataset_1 = features_split[0]\n",
    "    dataset_2 = features_split[1]\n",
    "\n",
    "    polynomials = np.empty((num_examples,0))\n",
    "\n",
    "    for i in range(2, polynomial_degree + 1):\n",
    "        for j in range(i + 1):\n",
    "            polynomial_feature = (dataset_1 ** (i - j)) * (dataset_2 ** j)\n",
    "            polynomials = np.concatenate((polynomials, polynomial_feature), axis=1)\n",
    "\n",
    "    if normalize_data:\n",
    "        polynomials = normalize(polynomials)[0]\n",
    "\n",
    "    return polynomials\n",
    "\n",
    "# features = np.array([[1,3,2],[2,4,1],[3,6,2]]) \n",
    "# generate_polynomials(features, 2, False)"
   ]
  },
  {
   "cell_type": "code",
   "execution_count": 4,
   "metadata": {},
   "outputs": [],
   "source": [
    "def generate_sinusoids(data, degree, normalize_data = False):\n",
    "    \"\"\"sinx\"\"\"\n",
    "    num_examples = data.shape[0]\n",
    "    sinusoids = np.empty((num_examples,0))\n",
    "\n",
    "    for degree in range(1, degree+1):\n",
    "        sinusoids_features = np.sin(degree * data)\n",
    "        sinusoids = np.concatenate((sinusoids,sinusoids_features), axis=1)\n",
    "\n",
    "    if normalize_data:\n",
    "        sinusoids = normalize(sinusoids)[0]\n",
    "\n",
    "    return sinusoids\n",
    "\n",
    "# features = np.array([[1,3,2],[2,4,1],[3,6,2]]) \n",
    "# generate_sinusoids(features, 2, True )"
   ]
  },
  {
   "cell_type": "code",
   "execution_count": 5,
   "metadata": {},
   "outputs": [
    {
     "data": {
      "text/plain": [
       "array([[-1.18678166, -0.92716803,  1.4084507 ,  1.        ],\n",
       "       [ 0.41537358,  0.40353177,  0.17253521,  1.        ],\n",
       "       [-1.18678166, -0.92716803,  1.4084507 ,  1.        ],\n",
       "       [ 0.41537358,  0.40353177,  0.17253521,  1.        ],\n",
       "       [-0.65272991, -0.60735739,  0.42605634,  1.        ],\n",
       "       [ 2.01752882,  0.90186355,  4.07042253,  1.        ],\n",
       "       [-0.65272991, -0.60735739,  0.42605634,  1.        ],\n",
       "       [-0.11867817, -0.11839977,  0.01408451,  1.        ],\n",
       "       [ 0.94942533,  0.81308109,  0.90140845,  1.        ]])"
      ]
     },
     "execution_count": 5,
     "metadata": {},
     "output_type": "execute_result"
    }
   ],
   "source": [
    "def prepare_for_training(data, polynomial_degree=0, sinusoid_degree=0, normalize_data=True):\n",
    "    \"\"\"\n",
    "    可以传入一维或者二维的训练特征数据\n",
    "    polynomial_degree >= 2才有效果\n",
    "    \"\"\"\n",
    "\n",
    "    data_processed = np.copy(data)\n",
    "\n",
    "    if data_processed.ndim == 1:\n",
    "        data_processed = data_processed.reshape(-1,1)\n",
    "\n",
    "    if normalize_data:\n",
    "        data_normalize = normalize(data_processed)[0]\n",
    "        data_processed = data_normalize\n",
    "    \n",
    "    if sinusoid_degree > 0:\n",
    "        sinusoid = generate_sinusoids(data_normalize, sinusoid_degree)\n",
    "        data_processed = np.concatenate((data_processed, sinusoid),axis=1)\n",
    "\n",
    "    if polynomial_degree > 1:\n",
    "        polynomial = generate_polynomials(data_normalize, polynomial_degree)\n",
    "        data_processed = np.concatenate((data_processed, polynomial),axis=1)\n",
    "\n",
    "    # 在最后加一列\n",
    "    data_processed = np.hstack((data_processed, np.ones((data_processed.shape[0], 1))))\n",
    "\n",
    "    return data_processed\n",
    "\n",
    "# features = np.array([[1,3,2],[2,4,1],[3,6,2]]) \n",
    "# features = np.array([1,4,1,4,2,7,2,3,5]) \n",
    "# prepare_for_training(features, 2, 1, True)\n",
    "    "
   ]
  },
  {
   "cell_type": "code",
   "execution_count": null,
   "metadata": {},
   "outputs": [],
   "source": []
  },
  {
   "cell_type": "code",
   "execution_count": null,
   "metadata": {},
   "outputs": [],
   "source": []
  }
 ],
 "metadata": {
  "kernelspec": {
   "display_name": "Python 3.10.0 64-bit",
   "language": "python",
   "name": "python3"
  },
  "language_info": {
   "codemirror_mode": {
    "name": "ipython",
    "version": 3
   },
   "file_extension": ".py",
   "mimetype": "text/x-python",
   "name": "python",
   "nbconvert_exporter": "python",
   "pygments_lexer": "ipython3",
   "version": "3.10.0"
  },
  "orig_nbformat": 4,
  "vscode": {
   "interpreter": {
    "hash": "52078a61cf360e1cb9de801769e3cf77056a7e6fc9ad1b4a4e5b78b8e2b4c3dc"
   }
  }
 },
 "nbformat": 4,
 "nbformat_minor": 2
}
